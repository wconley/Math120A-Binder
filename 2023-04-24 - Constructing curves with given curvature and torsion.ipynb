{
 "cells": [
  {
   "cell_type": "code",
   "execution_count": 1,
   "id": "baca1c13",
   "metadata": {},
   "outputs": [],
   "source": [
    "import numpy as np\n",
    "from ipywidgets import FloatSlider, IntSlider, SelectionSlider\n",
    "from scipy.integrate import solve_ivp\n",
    "\n",
    "import plotlymath as pm\n",
    "from myutils import interact"
   ]
  },
  {
   "cell_type": "code",
   "execution_count": 2,
   "id": "342880ab",
   "metadata": {},
   "outputs": [],
   "source": [
    "def frenet_integrate(kappa, tau, s_values, **options):\n",
    "    TNB_0 = options.pop(\"TNB_0\", np.identity(3))\n",
    "    alpha_0 = options.pop(\"alpha_0\", np.zeros(3))\n",
    "    assert(len(s_values.shape) == 1)\n",
    "    assert(TNB_0.shape == (3, 3))\n",
    "    assert(alpha_0.shape == (3,))\n",
    "\n",
    "    def frenet_serret(s, state):\n",
    "        k = kappa(s)\n",
    "        t = tau(s)\n",
    "        frenet_matrix = np.array((\n",
    "            ( 0,  k,  0), \n",
    "            (-k,  0,  t), \n",
    "            ( 0, -t,  0), \n",
    "        ))\n",
    "        return ( frenet_matrix @ state.reshape((3, 3)) ).flatten()\n",
    "\n",
    "    BIG_I = np.identity(3).reshape(3, 3, 1, 1)\n",
    "    def jacobian(s, state):\n",
    "        k = kappa(s)\n",
    "        t = tau(s)\n",
    "        frenet_matrix = np.array((\n",
    "            ( 0,  k,  0), \n",
    "            (-k,  0,  t), \n",
    "            ( 0, -t,  0), \n",
    "        ))\n",
    "        return (frenet_matrix * BIG_I).transpose((2, 0, 3, 1)).reshape((9, 9))\n",
    "\n",
    "    # Solve the ODE to get T, N, And B as functions of s\n",
    "    #solve_options = {\"method\": \"LSODA\", \"jac\": jacobian, \"dense_output\": True, \n",
    "    #                 \"atol\": 1e-10, \"rtol\": 1e-6}\n",
    "    solve_options = {\"method\": \"DOP853\", \"dense_output\": True, \"atol\": 1e-10, \"rtol\": 1e-6}\n",
    "    s_range = (s_values[0], s_values[-1])\n",
    "    solution = solve_ivp(frenet_serret, s_range, TNB_0.flatten(), **solve_options)\n",
    "    TNB = solution.sol(s_values)\n",
    "    # Perform composite Simpson's rule on T to get position at each s value\n",
    "    simpson = TNB[:3].copy()\n",
    "    T_mid = solution.sol((s_values[:-1] + s_values[1:]) / 2)[:3]\n",
    "    simpson[:,1:] += simpson[:,:-1] + 4*T_mid\n",
    "    simpson[:,1:] *= (s_values[1:] - s_values[:-1]) / 6\n",
    "    simpson[:,0] = alpha_0\n",
    "    return ( np.cumsum(simpson, axis=-1).T, TNB.T.reshape((-1, 3, 3)) )\n"
   ]
  },
  {
   "cell_type": "code",
   "execution_count": 3,
   "id": "c8296856",
   "metadata": {},
   "outputs": [],
   "source": [
    "def frenet_close_curve(kappa, tau, param_min, param_max, s_values, **options):\n",
    "    \"\"\"Approximate value of parameter that makes a closed curve\n",
    "\n",
    "    kappa and tau should have signature kappa(a, s), where \"a\" is a parameter\n",
    "    \"\"\"\n",
    "    accuracy = options.pop(\"accuracy\", 1e-6)\n",
    "    TNB_0 = options.setdefault(\"TNB_0\", np.identity(3))\n",
    "    alpha_0 = options.setdefault(\"alpha_0\", np.zeros(3))\n",
    "    N0 = TNB_0[1]\n",
    "    B0 = TNB_0[2]\n",
    "    param = param_min\n",
    "    vector_min = None\n",
    "    vector_max = None\n",
    "    def k(s): return kappa(param, s)\n",
    "    def t(s): return tau(param, s)\n",
    "    while abs(param_max - param_min) > accuracy:\n",
    "        alpha, TNB = frenet_integrate(k, t, s_values, **options)\n",
    "        vector = alpha[-1] - alpha_0\n",
    "        if vector_min is None:\n",
    "            vector_min = vector\n",
    "            param = param_max\n",
    "        elif vector_max is None:\n",
    "            vector_max = vector\n",
    "            param = (param_min + param_max) / 2\n",
    "        else:\n",
    "            a = vector @ vector_min\n",
    "            b = vector @ vector_max\n",
    "            if a < 0 and b > 0:\n",
    "                #print(f\"Closer to max!\")\n",
    "                #print(f\"    {vector} is closer to {vector_max} ({b})\")\n",
    "                #print(f\"    than to {vector_min} ({a})\")\n",
    "                param_max = param\n",
    "                vector_max = vector\n",
    "            elif a > 0 and b < 0:\n",
    "                #print(f\"Closer to min!\")\n",
    "                #print(f\"    {vector} is closer to {vector_min} ({a})\")\n",
    "                #print(f\"    than to {vector_max} ({b})\")\n",
    "                param_min = param\n",
    "                vector_min = vector\n",
    "            else:\n",
    "                print(f\"Can't continue!\")\n",
    "                print(f\"    Current vector = {vector}\")\n",
    "                print(f\"    Dot product with vector_min={vector_min} is {a}\")\n",
    "                print(f\"    Dot product with vector_max={vector_max} is {b}\")\n",
    "                break\n",
    "            #print(f\"    New range: {param_min} ≤ a ≤ {param_max}\")\n",
    "            param = (param_min + param_max) / 2\n",
    "    return param\n"
   ]
  },
  {
   "cell_type": "code",
   "execution_count": 4,
   "id": "648db2ef",
   "metadata": {},
   "outputs": [],
   "source": [
    "def frenet_interactive(kappa, tau, s_values, **options):\n",
    "    TNB_0 = options.setdefault(\"TNB_0\", np.identity(3))\n",
    "    alpha_0 = options.setdefault(\"alpha_0\", np.zeros(3))\n",
    "    figure, plot = pm.make_figure(widget=True, specs=[[{\"type\": \"scene\"}]])\n",
    "    plot.axes_labels(*options.pop(\"axes_labels\", (\"x\", \"y\", \"z\")))\n",
    "    alpha, TNB = frenet_integrate(kappa, tau, s_values)\n",
    "\n",
    "    alpha_min = np.min(alpha, axis=0)\n",
    "    alpha_max = np.max(alpha, axis=0)\n",
    "    alpha -= (alpha_max + alpha_min) / 2\n",
    "    xmax = 0.5 * (alpha_max - alpha_min).max()\n",
    "    xmax = max(xmax + 1, xmax * 1.2)\n",
    "    plot.axes_ranges((-xmax, xmax), (-xmax, xmax), (-xmax, xmax), scale=(1, 1, 1))\n",
    "    plot.lines3d(alpha, name=\"Curve\", id=\"Curve\")\n",
    "\n",
    "    @interact(s=SelectionSlider(options=s_values, description=\"$s$\"))\n",
    "    def update(s):\n",
    "        i = np.argmin(np.abs(s_values - s))\n",
    "        with figure.batch_update():\n",
    "            plot.points3d([alpha[i]], size=4, color=\"black\", name=\"Point\", id=\"Point\")\n",
    "            plot.vector3d(TNB[i,0], start=alpha[i], color=\"green\", name=\"T\", id=\"T\")\n",
    "            plot.vector3d(TNB[i,1], start=alpha[i], color=\"red\",   name=\"N\", id=\"N\")\n",
    "            plot.vector3d(TNB[i,2], start=alpha[i], color=\"gold\",  name=\"B\", id=\"B\")\n",
    "\n",
    "    plot[\"Point\"].update(visible=\"legendonly\")\n",
    "    for v in (\"T\", \"N\", \"B\"):\n",
    "        for trace in plot[v]:\n",
    "            trace.update(visible=\"legendonly\")\n",
    "    return figure\n"
   ]
  },
  {
   "cell_type": "code",
   "execution_count": 5,
   "id": "44ba561a",
   "metadata": {},
   "outputs": [],
   "source": [
    "def parameter_interactive(kappa, tau, s_maxes, param_range, **options):\n",
    "    samples = options.pop(\"samples\", 4001)\n",
    "    TNB_0 = options.setdefault(\"TNB_0\", np.identity(3))\n",
    "    alpha_0 = options.setdefault(\"alpha_0\", np.zeros(3))\n",
    "    figure, plot = pm.make_figure(widget=True, specs=[[{\"type\": \"scene\"}]])\n",
    "    plot.axes_labels(*options.pop(\"axes_labels\", (\"x\", \"y\", \"z\")))\n",
    "\n",
    "    amin, amax, avalue, alabel = param_range\n",
    "    @interact(a=FloatSlider(min=amin, max=amax, value=avalue, \n",
    "                            step=(amax - amin) / 200, description=alabel), \n",
    "              s_max=SelectionSlider(options=s_maxes, description=\"$s_{max}$\"), \n",
    "              pos=FloatSlider(min=0, max=1, value=0, step=0.01, description=\"position\"))\n",
    "    def update(a, s_max, pos):\n",
    "        def k(s): return kappa(a, s)\n",
    "        def t(s): return tau(a, s)\n",
    "        s_values = np.linspace(0, s_max, samples)\n",
    "        alpha, TNB = frenet_integrate(k, t, s_values, **options)\n",
    "        alpha_min = np.min(alpha, axis=0)\n",
    "        alpha_max = np.max(alpha, axis=0)\n",
    "        alpha -= (alpha_max + alpha_min) / 2\n",
    "        xmax = 0.5 * (alpha_max - alpha_min).max()\n",
    "        xmax = max(xmax + 1, xmax * 1.2)\n",
    "        i = round(pos * (samples - 1))\n",
    "        with figure.batch_update():\n",
    "            plot.axes_ranges((-xmax, xmax), (-xmax, xmax), (-xmax, xmax), scale=(1, 1, 1))\n",
    "            plot.lines3d(alpha, name=\"Curve\", id=\"Curve\")\n",
    "            plot.points3d([alpha[i]], size=4, color=\"black\", name=\"Point\", id=\"Point\")\n",
    "            plot.vector3d(TNB[i,0], start=alpha[i], color=\"green\", name=\"T\", id=\"T\")\n",
    "            plot.vector3d(TNB[i,1], start=alpha[i], color=\"red\",   name=\"N\", id=\"N\")\n",
    "            plot.vector3d(TNB[i,2], start=alpha[i], color=\"gold\",  name=\"B\", id=\"B\")\n",
    "\n",
    "    plot[\"Point\"].update(visible=\"legendonly\")\n",
    "    for v in (\"T\", \"N\", \"B\"):\n",
    "        for trace in plot[v]:\n",
    "            trace.update(visible=\"legendonly\")\n",
    "    return figure\n"
   ]
  },
  {
   "cell_type": "code",
   "execution_count": 6,
   "id": "0a1cc77f",
   "metadata": {},
   "outputs": [
    {
     "data": {
      "application/vnd.jupyter.widget-view+json": {
       "model_id": "b0815851d9e14a8fb122489a591528ec",
       "version_major": 2,
       "version_minor": 0
      },
      "text/plain": [
       "interactive(children=(SelectionSlider(description='$s$', options=(0.0, 0.01, 0.02, 0.03, 0.04, 0.05, 0.06, 0.0…"
      ]
     },
     "metadata": {},
     "output_type": "display_data"
    },
    {
     "data": {
      "application/vnd.jupyter.widget-view+json": {
       "model_id": "ff453e028cfa4d5f82b8ee7ca99e40d8",
       "version_major": 2,
       "version_minor": 0
      },
      "text/plain": [
       "FigureWidget({\n",
       "    'data': [{'mode': 'lines',\n",
       "              'name': 'Curve',\n",
       "              'scene': 'scene',\n",
       "              'type': 'scatter3d',\n",
       "              'uid': '0db77b3e-580a-4686-8051-08d8b6dd43a3',\n",
       "              'x': array([-4.09316544e-07,  9.99957216e-03,  1.99994425e-02, ..., -1.61524260e+00,\n",
       "                          -1.62366041e+00, -1.63206018e+00]),\n",
       "              'y': array([-2.99999817, -2.99998151, -2.99993151, ...,  2.52804143,  2.52264325,\n",
       "                           2.51721705]),\n",
       "              'z': array([0., 0., 0., ..., 0., 0., 0.])},\n",
       "             {'marker': {'color': 'black', 'size': 4},\n",
       "              'mode': 'markers',\n",
       "              'name': 'Point',\n",
       "              'scene': 'scene',\n",
       "              'type': 'scatter3d',\n",
       "              'uid': '192db60a-a147-49da-a675-b900efaf166b',\n",
       "              'visible': 'legendonly',\n",
       "              'x': array([-4.09316544e-07]),\n",
       "              'y': array([-2.99999817]),\n",
       "              'z': array([0.])},\n",
       "             {'legendgroup': 'C2344F1B',\n",
       "              'line': {'color': 'green', 'width': 3},\n",
       "              'mode': 'lines',\n",
       "              'name': 'T',\n",
       "              'scene': 'scene',\n",
       "              'type': 'scatter3d',\n",
       "              'uid': 'a0ee1ce2-a07c-4b6a-84a0-d9beeaf0b11b',\n",
       "              'visible': 'legendonly',\n",
       "              'x': [-4.0931654399223305e-07, 0.799999590683456],\n",
       "              'y': [-2.9999981747047437, -2.9999981747047437],\n",
       "              'z': [0.0, 0.0]},\n",
       "             {'anchor': 'tail',\n",
       "              'colorscale': [[0.0, 'green'], [1.0, 'green']],\n",
       "              'legendgroup': 'C2344F1B',\n",
       "              'name': 'T',\n",
       "              'scene': 'scene',\n",
       "              'showlegend': False,\n",
       "              'sizemode': 'scaled',\n",
       "              'sizeref': 1,\n",
       "              'type': 'cone',\n",
       "              'u': [0.2],\n",
       "              'uid': '31bfb2cd-06a9-4c66-b1f8-b11585056f36',\n",
       "              'v': [0.0],\n",
       "              'visible': 'legendonly',\n",
       "              'w': [0.0],\n",
       "              'x': [0.799999590683456],\n",
       "              'y': [-2.9999981747047437],\n",
       "              'z': [0.0]},\n",
       "             {'legendgroup': '92718FA1',\n",
       "              'line': {'color': 'red', 'width': 3},\n",
       "              'mode': 'lines',\n",
       "              'name': 'N',\n",
       "              'scene': 'scene',\n",
       "              'type': 'scatter3d',\n",
       "              'uid': 'ae664f5a-ea35-4738-932c-bd21d767fa50',\n",
       "              'visible': 'legendonly',\n",
       "              'x': [-4.0931654399223305e-07, -4.0931654399223305e-07],\n",
       "              'y': [-2.9999981747047437, -2.199998174704744],\n",
       "              'z': [0.0, 0.0]},\n",
       "             {'anchor': 'tail',\n",
       "              'colorscale': [[0.0, 'red'], [1.0, 'red']],\n",
       "              'legendgroup': '92718FA1',\n",
       "              'name': 'N',\n",
       "              'scene': 'scene',\n",
       "              'showlegend': False,\n",
       "              'sizemode': 'scaled',\n",
       "              'sizeref': 1,\n",
       "              'type': 'cone',\n",
       "              'u': [0.0],\n",
       "              'uid': '0ab69a0a-4462-4da3-9e9c-93065cb68073',\n",
       "              'v': [0.2],\n",
       "              'visible': 'legendonly',\n",
       "              'w': [0.0],\n",
       "              'x': [-4.0931654399223305e-07],\n",
       "              'y': [-2.199998174704744],\n",
       "              'z': [0.0]},\n",
       "             {'legendgroup': '21DD183B',\n",
       "              'line': {'color': 'gold', 'width': 3},\n",
       "              'mode': 'lines',\n",
       "              'name': 'B',\n",
       "              'scene': 'scene',\n",
       "              'type': 'scatter3d',\n",
       "              'uid': '44c13df1-cdf4-4abb-9d53-655c22a7131c',\n",
       "              'visible': 'legendonly',\n",
       "              'x': [-4.0931654399223305e-07, -4.0931654399223305e-07],\n",
       "              'y': [-2.9999981747047437, -2.9999981747047437],\n",
       "              'z': [0.0, 0.8]},\n",
       "             {'anchor': 'tail',\n",
       "              'colorscale': [[0.0, 'gold'], [1.0, 'gold']],\n",
       "              'legendgroup': '21DD183B',\n",
       "              'name': 'B',\n",
       "              'scene': 'scene',\n",
       "              'showlegend': False,\n",
       "              'sizemode': 'scaled',\n",
       "              'sizeref': 1,\n",
       "              'type': 'cone',\n",
       "              'u': [0.0],\n",
       "              'uid': '346e493e-e2d8-4f5e-b076-46dc4536abf4',\n",
       "              'v': [0.0],\n",
       "              'visible': 'legendonly',\n",
       "              'w': [0.2],\n",
       "              'x': [-4.0931654399223305e-07],\n",
       "              'y': [-2.9999981747047437],\n",
       "              'z': [0.8]}],\n",
       "    'layout': {'scene': {'aspectmode': 'manual',\n",
       "                         'aspectratio': {'x': 1.0, 'y': 1.0, 'z': 1.0},\n",
       "                         'domain': {'x': [0.0, 1.0], 'y': [0.0, 1.0]},\n",
       "                         'xaxis': {'range': [-3.9999984218819344, 3.9999984218819344], 'title': {'text': 'x'}},\n",
       "                         'yaxis': {'range': [-3.9999984218819344, 3.9999984218819344], 'title': {'text': 'y'}},\n",
       "                         'zaxis': {'range': [-3.9999984218819344, 3.9999984218819344], 'title': {'text': 'z'}}},\n",
       "               'template': '...'}\n",
       "})"
      ]
     },
     "execution_count": 6,
     "metadata": {},
     "output_type": "execute_result"
    }
   ],
   "source": [
    "# Testing: This should give a circle, of radius 3\n",
    "def kappa(s): return 1/3\n",
    "def tau(s): return 0\n",
    "s_values = np.linspace(0, 30, 3001)\n",
    "frenet_interactive(kappa, tau, s_values)"
   ]
  },
  {
   "cell_type": "code",
   "execution_count": 7,
   "id": "b93514ba",
   "metadata": {
    "scrolled": false
   },
   "outputs": [
    {
     "data": {
      "application/vnd.jupyter.widget-view+json": {
       "model_id": "cba6560d108246ef879c3f22d3ef7ff6",
       "version_major": 2,
       "version_minor": 0
      },
      "text/plain": [
       "interactive(children=(SelectionSlider(description='$s$', options=(0.0, 0.01, 0.02, 0.03, 0.04, 0.05, 0.06, 0.0…"
      ]
     },
     "metadata": {},
     "output_type": "display_data"
    },
    {
     "data": {
      "application/vnd.jupyter.widget-view+json": {
       "model_id": "6744d4d80db3441e8d8ec713bc3efa1b",
       "version_major": 2,
       "version_minor": 0
      },
      "text/plain": [
       "FigureWidget({\n",
       "    'data': [{'mode': 'lines',\n",
       "              'name': 'Curve',\n",
       "              'scene': 'scene',\n",
       "              'type': 'scatter3d',\n",
       "              'uid': '3221bb02-e3b1-43bb-aa12-fe10f1ddc0ad',\n",
       "              'x': array([-1.57079105, -1.5607912 , -1.55079225, ...,  0.53538248,  0.53763718,\n",
       "                           0.53998094]),\n",
       "              'y': array([-0.9486827 , -0.94863527, -0.94849297, ..., -0.12755849, -0.13695263,\n",
       "                          -0.14633308]),\n",
       "              'z': array([-4.64820467, -4.64820462, -4.64820427, ...,  4.64307082,  4.64565259,\n",
       "                           4.64820467])},\n",
       "             {'marker': {'color': 'black', 'size': 4},\n",
       "              'mode': 'markers',\n",
       "              'name': 'Point',\n",
       "              'scene': 'scene',\n",
       "              'type': 'scatter3d',\n",
       "              'uid': '94af2a84-c70b-4cdf-a01a-b796746532d2',\n",
       "              'visible': 'legendonly',\n",
       "              'x': array([-1.57079105]),\n",
       "              'y': array([-0.9486827]),\n",
       "              'z': array([-4.64820467])},\n",
       "             {'legendgroup': '2C67A184',\n",
       "              'line': {'color': 'green', 'width': 3},\n",
       "              'mode': 'lines',\n",
       "              'name': 'T',\n",
       "              'scene': 'scene',\n",
       "              'type': 'scatter3d',\n",
       "              'uid': '96be4dc3-0324-4062-8eb7-b66eab5fb506',\n",
       "              'visible': 'legendonly',\n",
       "              'x': [-1.5707910482117529, -0.7707910482117528],\n",
       "              'y': [-0.9486827039285424, -0.9486827039285424],\n",
       "              'z': [-4.648204668643244, -4.648204668643244]},\n",
       "             {'anchor': 'tail',\n",
       "              'colorscale': [[0.0, 'green'], [1.0, 'green']],\n",
       "              'legendgroup': '2C67A184',\n",
       "              'name': 'T',\n",
       "              'scene': 'scene',\n",
       "              'showlegend': False,\n",
       "              'sizemode': 'scaled',\n",
       "              'sizeref': 1,\n",
       "              'type': 'cone',\n",
       "              'u': [0.2],\n",
       "              'uid': '75b54270-5426-4389-bcdc-95126b6e7e9a',\n",
       "              'v': [0.0],\n",
       "              'visible': 'legendonly',\n",
       "              'w': [0.0],\n",
       "              'x': [-0.7707910482117528],\n",
       "              'y': [-0.9486827039285424],\n",
       "              'z': [-4.648204668643244]},\n",
       "             {'legendgroup': '1504602B',\n",
       "              'line': {'color': 'red', 'width': 3},\n",
       "              'mode': 'lines',\n",
       "              'name': 'N',\n",
       "              'scene': 'scene',\n",
       "              'type': 'scatter3d',\n",
       "              'uid': '2f1199b9-658c-4b26-8622-2ef4a3d08fe3',\n",
       "              'visible': 'legendonly',\n",
       "              'x': [-1.5707910482117529, -1.5707910482117529],\n",
       "              'y': [-0.9486827039285424, -0.14868270392854233],\n",
       "              'z': [-4.648204668643244, -4.648204668643244]},\n",
       "             {'anchor': 'tail',\n",
       "              'colorscale': [[0.0, 'red'], [1.0, 'red']],\n",
       "              'legendgroup': '1504602B',\n",
       "              'name': 'N',\n",
       "              'scene': 'scene',\n",
       "              'showlegend': False,\n",
       "              'sizemode': 'scaled',\n",
       "              'sizeref': 1,\n",
       "              'type': 'cone',\n",
       "              'u': [0.0],\n",
       "              'uid': '1deecfdd-3c76-48d7-98d3-821386a3d670',\n",
       "              'v': [0.2],\n",
       "              'visible': 'legendonly',\n",
       "              'w': [0.0],\n",
       "              'x': [-1.5707910482117529],\n",
       "              'y': [-0.14868270392854233],\n",
       "              'z': [-4.648204668643244]},\n",
       "             {'legendgroup': 'B8F17AFB',\n",
       "              'line': {'color': 'gold', 'width': 3},\n",
       "              'mode': 'lines',\n",
       "              'name': 'B',\n",
       "              'scene': 'scene',\n",
       "              'type': 'scatter3d',\n",
       "              'uid': '5286402a-c3a1-4fab-8be1-6c32d9db0aa8',\n",
       "              'visible': 'legendonly',\n",
       "              'x': [-1.5707910482117529, -1.5707910482117529],\n",
       "              'y': [-0.9486827039285424, -0.9486827039285424],\n",
       "              'z': [-4.648204668643244, -3.848204668643244]},\n",
       "             {'anchor': 'tail',\n",
       "              'colorscale': [[0.0, 'gold'], [1.0, 'gold']],\n",
       "              'legendgroup': 'B8F17AFB',\n",
       "              'name': 'B',\n",
       "              'scene': 'scene',\n",
       "              'showlegend': False,\n",
       "              'sizemode': 'scaled',\n",
       "              'sizeref': 1,\n",
       "              'type': 'cone',\n",
       "              'u': [0.0],\n",
       "              'uid': '6f5bfd93-4811-4fdb-96fe-ec76967d662d',\n",
       "              'v': [0.0],\n",
       "              'visible': 'legendonly',\n",
       "              'w': [0.2],\n",
       "              'x': [-1.5707910482117529],\n",
       "              'y': [-0.9486827039285424],\n",
       "              'z': [-3.848204668643244]}],\n",
       "    'layout': {'scene': {'aspectmode': 'manual',\n",
       "                         'aspectratio': {'x': 1.0, 'y': 1.0, 'z': 1.0},\n",
       "                         'domain': {'x': [0.0, 1.0], 'y': [0.0, 1.0]},\n",
       "                         'xaxis': {'range': [-5.648204668643244, 5.648204668643244], 'title': {'text': 'x'}},\n",
       "                         'yaxis': {'range': [-5.648204668643244, 5.648204668643244], 'title': {'text': 'y'}},\n",
       "                         'zaxis': {'range': [-5.648204668643244, 5.648204668643244], 'title': {'text': 'z'}}},\n",
       "               'template': '...'}\n",
       "})"
      ]
     },
     "execution_count": 7,
     "metadata": {},
     "output_type": "execute_result"
    }
   ],
   "source": [
    "# Testing: This should give a helix, of radius 3\n",
    "def kappa(s): return 3/np.sqrt(10)\n",
    "def tau(s): return 1/np.sqrt(10)\n",
    "s_values = np.linspace(0, 30, 3001)\n",
    "frenet_interactive(kappa, tau, s_values)"
   ]
  },
  {
   "cell_type": "markdown",
   "id": "06e9dd8c",
   "metadata": {},
   "source": [
    "<br>\n",
    "<br>\n",
    "<br>\n",
    "<br>\n",
    "<br>\n",
    "<br>\n",
    "<br>\n",
    "<br>\n",
    "<br>\n",
    "<br>\n",
    "<br>\n",
    "<br>\n",
    "<br>\n",
    "<br>\n",
    "<br>\n",
    "<br>\n",
    "<br>\n",
    "<br>\n"
   ]
  },
  {
   "cell_type": "markdown",
   "id": "aca7cbe8",
   "metadata": {},
   "source": [
    "## Here we can see how a helix changes as we change its torsion\n",
    "\n",
    "### (keeping the curvature constant at $\\kappa = 1$)\n"
   ]
  },
  {
   "cell_type": "code",
   "execution_count": 8,
   "id": "d5e4d66e",
   "metadata": {},
   "outputs": [
    {
     "data": {
      "application/vnd.jupyter.widget-view+json": {
       "model_id": "11a65ef23c48486ab73541b29d0712c7",
       "version_major": 2,
       "version_minor": 0
      },
      "text/plain": [
       "interactive(children=(FloatSlider(value=0.0, description='torsion', max=1.5, min=-0.5, step=0.01), SelectionSl…"
      ]
     },
     "metadata": {},
     "output_type": "display_data"
    },
    {
     "data": {
      "application/vnd.jupyter.widget-view+json": {
       "model_id": "c92dee3fa8c0423f9714bb80ec457213",
       "version_major": 2,
       "version_minor": 0
      },
      "text/plain": [
       "FigureWidget({\n",
       "    'data': [{'mode': 'lines',\n",
       "              'name': 'Curve',\n",
       "              'scene': 'scene',\n",
       "              'type': 'scatter3d',\n",
       "              'uid': '8a3a27c3-16c8-447d-8877-67dd6362623c',\n",
       "              'x': array([-7.23297323e-08,  1.57072335e-03,  3.14151516e-03, ..., -3.14230088e-03,\n",
       "                          -1.57150950e-03, -7.14248758e-07]),\n",
       "              'y': array([-1.00000003, -0.99999879, -0.99999509, ..., -0.99999482, -0.99999852,\n",
       "                          -0.99999975]),\n",
       "              'z': array([0., 0., 0., ..., 0., 0., 0.])},\n",
       "             {'marker': {'color': 'black', 'size': 4},\n",
       "              'mode': 'markers',\n",
       "              'name': 'Point',\n",
       "              'scene': 'scene',\n",
       "              'type': 'scatter3d',\n",
       "              'uid': 'add6b2ea-8c13-49db-a44a-bf6abddaccfa',\n",
       "              'visible': 'legendonly',\n",
       "              'x': array([-7.23297323e-08]),\n",
       "              'y': array([-1.00000003]),\n",
       "              'z': array([0.])},\n",
       "             {'legendgroup': '670BDC67',\n",
       "              'line': {'color': 'green', 'width': 3},\n",
       "              'mode': 'lines',\n",
       "              'name': 'T',\n",
       "              'scene': 'scene',\n",
       "              'type': 'scatter3d',\n",
       "              'uid': 'e4be256d-9299-4a4e-afaa-1a9c2f8b56a2',\n",
       "              'visible': 'legendonly',\n",
       "              'x': [-7.232973225912431e-08, 0.7999999276702678],\n",
       "              'y': [-1.0000000252994716, -1.0000000252994716],\n",
       "              'z': [0.0, 0.0]},\n",
       "             {'anchor': 'tail',\n",
       "              'colorscale': [[0.0, 'green'], [1.0, 'green']],\n",
       "              'legendgroup': '670BDC67',\n",
       "              'name': 'T',\n",
       "              'scene': 'scene',\n",
       "              'showlegend': False,\n",
       "              'sizemode': 'scaled',\n",
       "              'sizeref': 1,\n",
       "              'type': 'cone',\n",
       "              'u': [0.2],\n",
       "              'uid': '5fce15e3-2b8a-4c54-920a-0910737e0feb',\n",
       "              'v': [0.0],\n",
       "              'visible': 'legendonly',\n",
       "              'w': [0.0],\n",
       "              'x': [0.7999999276702678],\n",
       "              'y': [-1.0000000252994716],\n",
       "              'z': [0.0]},\n",
       "             {'legendgroup': 'DF55DAD5',\n",
       "              'line': {'color': 'red', 'width': 3},\n",
       "              'mode': 'lines',\n",
       "              'name': 'N',\n",
       "              'scene': 'scene',\n",
       "              'type': 'scatter3d',\n",
       "              'uid': '8484b188-5bf9-4cef-aec7-793d4e42f577',\n",
       "              'visible': 'legendonly',\n",
       "              'x': [-7.232973225912431e-08, -7.232973225912431e-08],\n",
       "              'y': [-1.0000000252994716, -0.20000002529947158],\n",
       "              'z': [0.0, 0.0]},\n",
       "             {'anchor': 'tail',\n",
       "              'colorscale': [[0.0, 'red'], [1.0, 'red']],\n",
       "              'legendgroup': 'DF55DAD5',\n",
       "              'name': 'N',\n",
       "              'scene': 'scene',\n",
       "              'showlegend': False,\n",
       "              'sizemode': 'scaled',\n",
       "              'sizeref': 1,\n",
       "              'type': 'cone',\n",
       "              'u': [0.0],\n",
       "              'uid': 'cc80113c-fb30-49a3-84a1-a5d83cc4a1f6',\n",
       "              'v': [0.2],\n",
       "              'visible': 'legendonly',\n",
       "              'w': [0.0],\n",
       "              'x': [-7.232973225912431e-08],\n",
       "              'y': [-0.20000002529947158],\n",
       "              'z': [0.0]},\n",
       "             {'legendgroup': 'E350A237',\n",
       "              'line': {'color': 'gold', 'width': 3},\n",
       "              'mode': 'lines',\n",
       "              'name': 'B',\n",
       "              'scene': 'scene',\n",
       "              'type': 'scatter3d',\n",
       "              'uid': '4d98ce5e-42d2-4358-ae53-936961415466',\n",
       "              'visible': 'legendonly',\n",
       "              'x': [-7.232973225912431e-08, -7.232973225912431e-08],\n",
       "              'y': [-1.0000000252994716, -1.0000000252994716],\n",
       "              'z': [0.0, 0.8]},\n",
       "             {'anchor': 'tail',\n",
       "              'colorscale': [[0.0, 'gold'], [1.0, 'gold']],\n",
       "              'legendgroup': 'E350A237',\n",
       "              'name': 'B',\n",
       "              'scene': 'scene',\n",
       "              'showlegend': False,\n",
       "              'sizemode': 'scaled',\n",
       "              'sizeref': 1,\n",
       "              'type': 'cone',\n",
       "              'u': [0.0],\n",
       "              'uid': '1cea2501-de0e-4af7-889b-89389d7efcf1',\n",
       "              'v': [0.0],\n",
       "              'visible': 'legendonly',\n",
       "              'w': [0.2],\n",
       "              'x': [-7.232973225912431e-08],\n",
       "              'y': [-1.0000000252994716],\n",
       "              'z': [0.8]}],\n",
       "    'layout': {'scene': {'aspectmode': 'manual',\n",
       "                         'aspectratio': {'x': 1.0, 'y': 1.0, 'z': 1.0},\n",
       "                         'domain': {'x': [0.0, 1.0], 'y': [0.0, 1.0]},\n",
       "                         'xaxis': {'range': [-2.000000025299472, 2.000000025299472], 'title': {'text': 'x'}},\n",
       "                         'yaxis': {'range': [-2.000000025299472, 2.000000025299472], 'title': {'text': 'y'}},\n",
       "                         'zaxis': {'range': [-2.000000025299472, 2.000000025299472], 'title': {'text': 'z'}}},\n",
       "               'template': '...'}\n",
       "})"
      ]
     },
     "execution_count": 8,
     "metadata": {},
     "output_type": "execute_result"
    }
   ],
   "source": [
    "def kappa(a, s): return 1\n",
    "def tau(a, s): return a\n",
    "s_maxes = [(fr\"{n}π\", n*np.pi) for n in range(2, 7, 2)] + [(\"A lot\", 30.0)]\n",
    "parameter_interactive(kappa, tau, s_maxes, (-0.5, 1.5, 0, \"torsion\"))"
   ]
  },
  {
   "cell_type": "markdown",
   "id": "356d09a1",
   "metadata": {},
   "source": [
    "<br>\n",
    "<br>\n",
    "<br>\n",
    "<br>\n",
    "<br>\n"
   ]
  },
  {
   "cell_type": "markdown",
   "id": "64351b2e",
   "metadata": {},
   "source": [
    "## This is where things get interesting...\n",
    "\n",
    "### What does a curve with constant curvature and periodic torsion look like? "
   ]
  },
  {
   "cell_type": "code",
   "execution_count": 9,
   "id": "4af2525a",
   "metadata": {},
   "outputs": [
    {
     "data": {
      "application/vnd.jupyter.widget-view+json": {
       "model_id": "2af4d585fd3b4d0aaa5d8e3f4afaae69",
       "version_major": 2,
       "version_minor": 0
      },
      "text/plain": [
       "interactive(children=(FloatSlider(value=0.0, description='Amplitude', max=2.0, step=0.01), SelectionSlider(des…"
      ]
     },
     "metadata": {},
     "output_type": "display_data"
    },
    {
     "data": {
      "application/vnd.jupyter.widget-view+json": {
       "model_id": "d28f4a9744d54580a516d54ad5dbbe18",
       "version_major": 2,
       "version_minor": 0
      },
      "text/plain": [
       "FigureWidget({\n",
       "    'data': [{'mode': 'lines',\n",
       "              'name': 'Curve',\n",
       "              'scene': 'scene',\n",
       "              'type': 'scatter3d',\n",
       "              'uid': '9d0a31c8-11e4-4495-abff-ed964493394c',\n",
       "              'x': array([-7.23297323e-08,  1.57072335e-03,  3.14151516e-03, ..., -3.14230088e-03,\n",
       "                          -1.57150950e-03, -7.14248758e-07]),\n",
       "              'y': array([-1.00000003, -0.99999879, -0.99999509, ..., -0.99999482, -0.99999852,\n",
       "                          -0.99999975]),\n",
       "              'z': array([0., 0., 0., ..., 0., 0., 0.])},\n",
       "             {'marker': {'color': 'black', 'size': 4},\n",
       "              'mode': 'markers',\n",
       "              'name': 'Point',\n",
       "              'scene': 'scene',\n",
       "              'type': 'scatter3d',\n",
       "              'uid': 'b454cab9-6211-48f1-b621-a155ac8bd2bf',\n",
       "              'visible': 'legendonly',\n",
       "              'x': array([-7.23297323e-08]),\n",
       "              'y': array([-1.00000003]),\n",
       "              'z': array([0.])},\n",
       "             {'legendgroup': 'B9C46DFA',\n",
       "              'line': {'color': 'green', 'width': 3},\n",
       "              'mode': 'lines',\n",
       "              'name': 'T',\n",
       "              'scene': 'scene',\n",
       "              'type': 'scatter3d',\n",
       "              'uid': '0593ea43-3561-4a9a-986b-0ecf1d747ccf',\n",
       "              'visible': 'legendonly',\n",
       "              'x': [-7.232973225912431e-08, 0.7999999276702678],\n",
       "              'y': [-1.0000000252994716, -1.0000000252994716],\n",
       "              'z': [0.0, 0.0]},\n",
       "             {'anchor': 'tail',\n",
       "              'colorscale': [[0.0, 'green'], [1.0, 'green']],\n",
       "              'legendgroup': 'B9C46DFA',\n",
       "              'name': 'T',\n",
       "              'scene': 'scene',\n",
       "              'showlegend': False,\n",
       "              'sizemode': 'scaled',\n",
       "              'sizeref': 1,\n",
       "              'type': 'cone',\n",
       "              'u': [0.2],\n",
       "              'uid': 'bfce948a-5e06-4209-a72f-c94e745779be',\n",
       "              'v': [0.0],\n",
       "              'visible': 'legendonly',\n",
       "              'w': [0.0],\n",
       "              'x': [0.7999999276702678],\n",
       "              'y': [-1.0000000252994716],\n",
       "              'z': [0.0]},\n",
       "             {'legendgroup': 'D33BAB64',\n",
       "              'line': {'color': 'red', 'width': 3},\n",
       "              'mode': 'lines',\n",
       "              'name': 'N',\n",
       "              'scene': 'scene',\n",
       "              'type': 'scatter3d',\n",
       "              'uid': '209aeecf-0196-4a3d-b147-d9286a17a319',\n",
       "              'visible': 'legendonly',\n",
       "              'x': [-7.232973225912431e-08, -7.232973225912431e-08],\n",
       "              'y': [-1.0000000252994716, -0.20000002529947158],\n",
       "              'z': [0.0, 0.0]},\n",
       "             {'anchor': 'tail',\n",
       "              'colorscale': [[0.0, 'red'], [1.0, 'red']],\n",
       "              'legendgroup': 'D33BAB64',\n",
       "              'name': 'N',\n",
       "              'scene': 'scene',\n",
       "              'showlegend': False,\n",
       "              'sizemode': 'scaled',\n",
       "              'sizeref': 1,\n",
       "              'type': 'cone',\n",
       "              'u': [0.0],\n",
       "              'uid': '06246cf3-fc6d-446d-a1ba-de6c0a071f3b',\n",
       "              'v': [0.2],\n",
       "              'visible': 'legendonly',\n",
       "              'w': [0.0],\n",
       "              'x': [-7.232973225912431e-08],\n",
       "              'y': [-0.20000002529947158],\n",
       "              'z': [0.0]},\n",
       "             {'legendgroup': 'B43597D1',\n",
       "              'line': {'color': 'gold', 'width': 3},\n",
       "              'mode': 'lines',\n",
       "              'name': 'B',\n",
       "              'scene': 'scene',\n",
       "              'type': 'scatter3d',\n",
       "              'uid': 'f5ef2207-fc73-4da6-be71-86b625ec2601',\n",
       "              'visible': 'legendonly',\n",
       "              'x': [-7.232973225912431e-08, -7.232973225912431e-08],\n",
       "              'y': [-1.0000000252994716, -1.0000000252994716],\n",
       "              'z': [0.0, 0.8]},\n",
       "             {'anchor': 'tail',\n",
       "              'colorscale': [[0.0, 'gold'], [1.0, 'gold']],\n",
       "              'legendgroup': 'B43597D1',\n",
       "              'name': 'B',\n",
       "              'scene': 'scene',\n",
       "              'showlegend': False,\n",
       "              'sizemode': 'scaled',\n",
       "              'sizeref': 1,\n",
       "              'type': 'cone',\n",
       "              'u': [0.0],\n",
       "              'uid': '2d3bf88b-546c-49df-adf0-a0115236c62d',\n",
       "              'v': [0.0],\n",
       "              'visible': 'legendonly',\n",
       "              'w': [0.2],\n",
       "              'x': [-7.232973225912431e-08],\n",
       "              'y': [-1.0000000252994716],\n",
       "              'z': [0.8]}],\n",
       "    'layout': {'scene': {'aspectmode': 'manual',\n",
       "                         'aspectratio': {'x': 1.0, 'y': 1.0, 'z': 1.0},\n",
       "                         'domain': {'x': [0.0, 1.0], 'y': [0.0, 1.0]},\n",
       "                         'xaxis': {'range': [-2.000000025299472, 2.000000025299472], 'title': {'text': 'x'}},\n",
       "                         'yaxis': {'range': [-2.000000025299472, 2.000000025299472], 'title': {'text': 'y'}},\n",
       "                         'zaxis': {'range': [-2.000000025299472, 2.000000025299472], 'title': {'text': 'z'}}},\n",
       "               'template': '...'}\n",
       "})"
      ]
     },
     "execution_count": 9,
     "metadata": {},
     "output_type": "execute_result"
    }
   ],
   "source": [
    "def kappa(a, s): return 1\n",
    "def tau(a, s): return a * np.cos(s)\n",
    "s_maxes = [(fr\"{n}π\", n*np.pi) for n in range(2, 13, 2)] + [(\"A lot\", 200.0)]\n",
    "parameter_interactive(kappa, tau, s_maxes, (0, 2, 0, \"Amplitude\"))"
   ]
  },
  {
   "cell_type": "markdown",
   "id": "5ca372ab",
   "metadata": {},
   "source": [
    "<br>\n",
    "<br>\n",
    "<br>\n",
    "<br>\n",
    "<br>\n",
    "<br>\n",
    "<br>\n",
    "<br>\n",
    "<br>\n",
    "<br>\n",
    "<br>\n",
    "<br>\n",
    "<br>\n",
    "<br>\n",
    "<br>\n",
    "<br>\n",
    "<br>\n",
    "<br>\n"
   ]
  },
  {
   "cell_type": "markdown",
   "id": "f5b2d593",
   "metadata": {},
   "source": [
    "## Below we solve for (er... numerically approximate) the amplitude of the cosine function that makes the curve a perfect closed loop. \n",
    "\n",
    "### Starting with a period of $4\\pi$ (the “baseball seam” curve)"
   ]
  },
  {
   "cell_type": "code",
   "execution_count": 10,
   "id": "317bd843",
   "metadata": {},
   "outputs": [
    {
     "name": "stdout",
     "output_type": "stream",
     "text": [
      "Magic value of parameter is 1.0084475708007812\n"
     ]
    }
   ],
   "source": [
    "def kappa(a, s): return 1\n",
    "def tau(a, s): return a * np.cos(s)\n",
    "s_values = np.linspace(0, 4*np.pi, 4001)\n",
    "magic_a = frenet_close_curve(kappa, tau, 1, 1.02, s_values)\n",
    "print(f\"Magic value of parameter is {magic_a}\")"
   ]
  },
  {
   "cell_type": "code",
   "execution_count": 11,
   "id": "a130bae8",
   "metadata": {},
   "outputs": [
    {
     "data": {
      "application/vnd.jupyter.widget-view+json": {
       "model_id": "40eb9111fac24218912936d2d1773ca7",
       "version_major": 2,
       "version_minor": 0
      },
      "text/plain": [
       "interactive(children=(SelectionSlider(description='$s$', options=(0.0, 0.006283185307179587, 0.012566370614359…"
      ]
     },
     "metadata": {},
     "output_type": "display_data"
    },
    {
     "data": {
      "application/vnd.jupyter.widget-view+json": {
       "model_id": "f3be081d9db646a0bf450072462c2a9c",
       "version_major": 2,
       "version_minor": 0
      },
      "text/plain": [
       "FigureWidget({\n",
       "    'data': [{'mode': 'lines',\n",
       "              'name': 'Curve',\n",
       "              'scene': 'scene',\n",
       "              'type': 'scatter3d',\n",
       "              'uid': '2e15dfbe-39c3-4040-a666-06c6294218f2',\n",
       "              'x': array([-3.20679635e-07,  6.28282329e-03,  1.25657192e-02, ..., -1.25665023e-02,\n",
       "                          -6.28361052e-03, -4.70651355e-07]),\n",
       "              'y': array([-1.449096  , -1.44907626, -1.44901704, ..., -1.44901583, -1.44907505,\n",
       "                          -1.44909479]),\n",
       "              'z': array([-5.42444673e-07, -5.00753993e-07, -2.08925125e-07, ..., -3.12483500e-06,\n",
       "                          -2.83442179e-06, -2.79409676e-06])},\n",
       "             {'marker': {'color': 'black', 'size': 4},\n",
       "              'mode': 'markers',\n",
       "              'name': 'Point',\n",
       "              'scene': 'scene',\n",
       "              'type': 'scatter3d',\n",
       "              'uid': 'a791aec9-558a-4167-99e5-f6fd5277ea6e',\n",
       "              'visible': 'legendonly',\n",
       "              'x': array([-3.20679635e-07]),\n",
       "              'y': array([-1.449096]),\n",
       "              'z': array([-5.42444673e-07])},\n",
       "             {'legendgroup': '39C26BD6',\n",
       "              'line': {'color': 'green', 'width': 3},\n",
       "              'mode': 'lines',\n",
       "              'name': 'T',\n",
       "              'scene': 'scene',\n",
       "              'type': 'scatter3d',\n",
       "              'uid': '6c07732b-1c15-417f-bac1-1610e94ce52f',\n",
       "              'visible': 'legendonly',\n",
       "              'x': [-3.206796349575214e-07, 0.7999996793203651],\n",
       "              'y': [-1.4490959982196918, -1.4490959982196918],\n",
       "              'z': [-5.424446732904542e-07, -5.424446732904542e-07]},\n",
       "             {'anchor': 'tail',\n",
       "              'colorscale': [[0.0, 'green'], [1.0, 'green']],\n",
       "              'legendgroup': '39C26BD6',\n",
       "              'name': 'T',\n",
       "              'scene': 'scene',\n",
       "              'showlegend': False,\n",
       "              'sizemode': 'scaled',\n",
       "              'sizeref': 1,\n",
       "              'type': 'cone',\n",
       "              'u': [0.2],\n",
       "              'uid': '5f7d1620-e4b8-47fa-ac19-51afa2916d3c',\n",
       "              'v': [0.0],\n",
       "              'visible': 'legendonly',\n",
       "              'w': [0.0],\n",
       "              'x': [0.7999996793203651],\n",
       "              'y': [-1.4490959982196918],\n",
       "              'z': [-5.424446732904542e-07]},\n",
       "             {'legendgroup': '9D2553BC',\n",
       "              'line': {'color': 'red', 'width': 3},\n",
       "              'mode': 'lines',\n",
       "              'name': 'N',\n",
       "              'scene': 'scene',\n",
       "              'type': 'scatter3d',\n",
       "              'uid': 'cc2cc54d-3276-4f52-bff3-a895158bbe2a',\n",
       "              'visible': 'legendonly',\n",
       "              'x': [-3.206796349575214e-07, -3.206796349575214e-07],\n",
       "              'y': [-1.4490959982196918, -0.6490959982196918],\n",
       "              'z': [-5.424446732904542e-07, -5.424446732904542e-07]},\n",
       "             {'anchor': 'tail',\n",
       "              'colorscale': [[0.0, 'red'], [1.0, 'red']],\n",
       "              'legendgroup': '9D2553BC',\n",
       "              'name': 'N',\n",
       "              'scene': 'scene',\n",
       "              'showlegend': False,\n",
       "              'sizemode': 'scaled',\n",
       "              'sizeref': 1,\n",
       "              'type': 'cone',\n",
       "              'u': [0.0],\n",
       "              'uid': '1cc609e9-5907-4084-abf5-14c234816ac9',\n",
       "              'v': [0.2],\n",
       "              'visible': 'legendonly',\n",
       "              'w': [0.0],\n",
       "              'x': [-3.206796349575214e-07],\n",
       "              'y': [-0.6490959982196918],\n",
       "              'z': [-5.424446732904542e-07]},\n",
       "             {'legendgroup': '051348CF',\n",
       "              'line': {'color': 'gold', 'width': 3},\n",
       "              'mode': 'lines',\n",
       "              'name': 'B',\n",
       "              'scene': 'scene',\n",
       "              'type': 'scatter3d',\n",
       "              'uid': '6745c9eb-5119-4edc-9cab-807917f61205',\n",
       "              'visible': 'legendonly',\n",
       "              'x': [-3.206796349575214e-07, -3.206796349575214e-07],\n",
       "              'y': [-1.4490959982196918, -1.4490959982196918],\n",
       "              'z': [-5.424446732904542e-07, 0.7999994575553268]},\n",
       "             {'anchor': 'tail',\n",
       "              'colorscale': [[0.0, 'gold'], [1.0, 'gold']],\n",
       "              'legendgroup': '051348CF',\n",
       "              'name': 'B',\n",
       "              'scene': 'scene',\n",
       "              'showlegend': False,\n",
       "              'sizemode': 'scaled',\n",
       "              'sizeref': 1,\n",
       "              'type': 'cone',\n",
       "              'u': [0.0],\n",
       "              'uid': 'f8abc5bb-7335-4f6b-903f-d36a4f8a3687',\n",
       "              'v': [0.0],\n",
       "              'visible': 'legendonly',\n",
       "              'w': [0.2],\n",
       "              'x': [-3.206796349575214e-07],\n",
       "              'y': [-1.4490959982196918],\n",
       "              'z': [0.7999994575553268]}],\n",
       "    'layout': {'scene': {'aspectmode': 'manual',\n",
       "                         'aspectratio': {'x': 1.0, 'y': 1.0, 'z': 1.0},\n",
       "                         'domain': {'x': [0.0, 1.0], 'y': [0.0, 1.0]},\n",
       "                         'xaxis': {'range': [-2.4490959982196916, 2.4490959982196916], 'title': {'text': 'x'}},\n",
       "                         'yaxis': {'range': [-2.4490959982196916, 2.4490959982196916], 'title': {'text': 'y'}},\n",
       "                         'zaxis': {'range': [-2.4490959982196916, 2.4490959982196916], 'title': {'text': 'z'}}},\n",
       "               'template': '...'}\n",
       "})"
      ]
     },
     "execution_count": 11,
     "metadata": {},
     "output_type": "execute_result"
    }
   ],
   "source": [
    "def kappa(s): return 1\n",
    "def tau(s): return magic_a * np.cos(s)\n",
    "s_values = np.linspace(0, 4*np.pi, 2001)\n",
    "frenet_interactive(kappa, tau, s_values)"
   ]
  },
  {
   "cell_type": "markdown",
   "id": "0ce38292",
   "metadata": {},
   "source": [
    "<br>\n",
    "<br>\n",
    "<br>\n",
    "<br>\n",
    "<br>\n",
    "\n",
    "### Next with a period of $6\\pi$ (three oscillations as it goes around the loop)"
   ]
  },
  {
   "cell_type": "code",
   "execution_count": 12,
   "id": "95865958",
   "metadata": {},
   "outputs": [
    {
     "name": "stdout",
     "output_type": "stream",
     "text": [
      "Magic value of parameter is 1.3547428131103514\n"
     ]
    }
   ],
   "source": [
    "def kappa(a, s): return 1\n",
    "def tau(a, s): return a * np.cos(s)\n",
    "s_values = np.linspace(0, 6*np.pi, 12001)\n",
    "magic_a = frenet_close_curve(kappa, tau, 1.2, 1.4, s_values)\n",
    "print(f\"Magic value of parameter is {magic_a}\")"
   ]
  },
  {
   "cell_type": "code",
   "execution_count": 13,
   "id": "16403f7f",
   "metadata": {},
   "outputs": [
    {
     "data": {
      "application/vnd.jupyter.widget-view+json": {
       "model_id": "7ae6ddf251a94bdda9eb389794bb6fcf",
       "version_major": 2,
       "version_minor": 0
      },
      "text/plain": [
       "interactive(children=(SelectionSlider(description='$s$', options=(0.0, 0.0015707963267948967, 0.00314159265358…"
      ]
     },
     "metadata": {},
     "output_type": "display_data"
    },
    {
     "data": {
      "application/vnd.jupyter.widget-view+json": {
       "model_id": "f7b7f572e16e42dfb98b80ee90a016ca",
       "version_major": 2,
       "version_minor": 0
      },
      "text/plain": [
       "FigureWidget({\n",
       "    'data': [{'mode': 'lines',\n",
       "              'name': 'Curve',\n",
       "              'scene': 'scene',\n",
       "              'type': 'scatter3d',\n",
       "              'uid': '473d4239-1427-4b9c-8fe7-8a63c8408aa9',\n",
       "              'x': array([-4.29600989e-07,  1.57036608e-03,  3.14115788e-03, ..., -3.14158089e-03,\n",
       "                          -1.57079074e-03,  3.28593368e-09]),\n",
       "              'y': array([-2.08714877, -2.08714753, -2.08714383, ..., -2.08713977, -2.08714347,\n",
       "                          -2.08714471]),\n",
       "              'z': array([-9.74538062e-07, -9.73662947e-07, -9.67537153e-07, ...,  2.45123005e-06,\n",
       "                           2.45746729e-06,  2.45844919e-06])},\n",
       "             {'marker': {'color': 'black', 'size': 4},\n",
       "              'mode': 'markers',\n",
       "              'name': 'Point',\n",
       "              'scene': 'scene',\n",
       "              'type': 'scatter3d',\n",
       "              'uid': '20766d85-72d0-4b34-8ec9-4e2c37539852',\n",
       "              'visible': 'legendonly',\n",
       "              'x': array([-4.29600989e-07]),\n",
       "              'y': array([-2.08714877]),\n",
       "              'z': array([-9.74538062e-07])},\n",
       "             {'legendgroup': 'A0D14997',\n",
       "              'line': {'color': 'green', 'width': 3},\n",
       "              'mode': 'lines',\n",
       "              'name': 'T',\n",
       "              'scene': 'scene',\n",
       "              'type': 'scatter3d',\n",
       "              'uid': '676adfd6-7c4c-4cd8-98c6-9b0526aed088',\n",
       "              'visible': 'legendonly',\n",
       "              'x': [-4.2960098944888614e-07, 0.7999995703990106],\n",
       "              'y': [-2.087148767451823, -2.087148767451823],\n",
       "              'z': [-9.745380618042532e-07, -9.745380618042532e-07]},\n",
       "             {'anchor': 'tail',\n",
       "              'colorscale': [[0.0, 'green'], [1.0, 'green']],\n",
       "              'legendgroup': 'A0D14997',\n",
       "              'name': 'T',\n",
       "              'scene': 'scene',\n",
       "              'showlegend': False,\n",
       "              'sizemode': 'scaled',\n",
       "              'sizeref': 1,\n",
       "              'type': 'cone',\n",
       "              'u': [0.2],\n",
       "              'uid': '72a3674d-1b21-4a84-ab75-4cb05f5faea7',\n",
       "              'v': [0.0],\n",
       "              'visible': 'legendonly',\n",
       "              'w': [0.0],\n",
       "              'x': [0.7999995703990106],\n",
       "              'y': [-2.087148767451823],\n",
       "              'z': [-9.745380618042532e-07]},\n",
       "             {'legendgroup': 'FB2CF18B',\n",
       "              'line': {'color': 'red', 'width': 3},\n",
       "              'mode': 'lines',\n",
       "              'name': 'N',\n",
       "              'scene': 'scene',\n",
       "              'type': 'scatter3d',\n",
       "              'uid': '614b59ca-bc41-416e-9781-a5daae14ba54',\n",
       "              'visible': 'legendonly',\n",
       "              'x': [-4.2960098944888614e-07, -4.2960098944888614e-07],\n",
       "              'y': [-2.087148767451823, -1.287148767451823],\n",
       "              'z': [-9.745380618042532e-07, -9.745380618042532e-07]},\n",
       "             {'anchor': 'tail',\n",
       "              'colorscale': [[0.0, 'red'], [1.0, 'red']],\n",
       "              'legendgroup': 'FB2CF18B',\n",
       "              'name': 'N',\n",
       "              'scene': 'scene',\n",
       "              'showlegend': False,\n",
       "              'sizemode': 'scaled',\n",
       "              'sizeref': 1,\n",
       "              'type': 'cone',\n",
       "              'u': [0.0],\n",
       "              'uid': 'b0e92803-46aa-4d0e-844e-6c642ec02ce1',\n",
       "              'v': [0.2],\n",
       "              'visible': 'legendonly',\n",
       "              'w': [0.0],\n",
       "              'x': [-4.2960098944888614e-07],\n",
       "              'y': [-1.287148767451823],\n",
       "              'z': [-9.745380618042532e-07]},\n",
       "             {'legendgroup': 'D684141B',\n",
       "              'line': {'color': 'gold', 'width': 3},\n",
       "              'mode': 'lines',\n",
       "              'name': 'B',\n",
       "              'scene': 'scene',\n",
       "              'type': 'scatter3d',\n",
       "              'uid': '6cb6ceeb-4637-4ae1-94af-930dbc741e14',\n",
       "              'visible': 'legendonly',\n",
       "              'x': [-4.2960098944888614e-07, -4.2960098944888614e-07],\n",
       "              'y': [-2.087148767451823, -2.087148767451823],\n",
       "              'z': [-9.745380618042532e-07, 0.7999990254619382]},\n",
       "             {'anchor': 'tail',\n",
       "              'colorscale': [[0.0, 'gold'], [1.0, 'gold']],\n",
       "              'legendgroup': 'D684141B',\n",
       "              'name': 'B',\n",
       "              'scene': 'scene',\n",
       "              'showlegend': False,\n",
       "              'sizemode': 'scaled',\n",
       "              'sizeref': 1,\n",
       "              'type': 'cone',\n",
       "              'u': [0.0],\n",
       "              'uid': 'e301e8c4-9a15-4947-be3d-d79c5eb6fd30',\n",
       "              'v': [0.0],\n",
       "              'visible': 'legendonly',\n",
       "              'w': [0.2],\n",
       "              'x': [-4.2960098944888614e-07],\n",
       "              'y': [-2.087148767451823],\n",
       "              'z': [0.7999990254619382]}],\n",
       "    'layout': {'scene': {'aspectmode': 'manual',\n",
       "                         'aspectratio': {'x': 1.0, 'y': 1.0, 'z': 1.0},\n",
       "                         'domain': {'x': [0.0, 1.0], 'y': [0.0, 1.0]},\n",
       "                         'xaxis': {'range': [-3.087148767451823, 3.087148767451823], 'title': {'text': 'x'}},\n",
       "                         'yaxis': {'range': [-3.087148767451823, 3.087148767451823], 'title': {'text': 'y'}},\n",
       "                         'zaxis': {'range': [-3.087148767451823, 3.087148767451823], 'title': {'text': 'z'}}},\n",
       "               'template': '...'}\n",
       "})"
      ]
     },
     "execution_count": 13,
     "metadata": {},
     "output_type": "execute_result"
    }
   ],
   "source": [
    "def kappa(s): return 1\n",
    "def tau(s): return magic_a * np.cos(s)\n",
    "s_values = np.linspace(0, 6*np.pi, 12001)\n",
    "frenet_interactive(kappa, tau, s_values)"
   ]
  },
  {
   "cell_type": "markdown",
   "id": "e4fafe78",
   "metadata": {},
   "source": [
    "<br>\n",
    "<br>\n",
    "<br>\n",
    "<br>\n",
    "<br>\n",
    "\n",
    "### Next with a period of $8\\pi$ (four oscillations as it goes around the loop)"
   ]
  },
  {
   "cell_type": "code",
   "execution_count": 14,
   "id": "16c11dc9",
   "metadata": {},
   "outputs": [
    {
     "name": "stdout",
     "output_type": "stream",
     "text": [
      "Magic value of parameter is 1.5318492889404296\n"
     ]
    }
   ],
   "source": [
    "def kappa(a, s): return 1\n",
    "def tau(a, s): return a * np.cos(s)\n",
    "s_values = np.linspace(0, 8*np.pi, 16001)\n",
    "magic_a = frenet_close_curve(kappa, tau, 1.4, 1.6, s_values)\n",
    "print(f\"Magic value of parameter is {magic_a}\")"
   ]
  },
  {
   "cell_type": "code",
   "execution_count": 15,
   "id": "124d2858",
   "metadata": {},
   "outputs": [
    {
     "data": {
      "application/vnd.jupyter.widget-view+json": {
       "model_id": "3f68bc42a09a44bd99afabef1d90d2af",
       "version_major": 2,
       "version_minor": 0
      },
      "text/plain": [
       "interactive(children=(SelectionSlider(description='$s$', options=(0.0, 0.0015707963267948967, 0.00314159265358…"
      ]
     },
     "metadata": {},
     "output_type": "display_data"
    },
    {
     "data": {
      "application/vnd.jupyter.widget-view+json": {
       "model_id": "8d7401cca9114b5784b1961489cf91b2",
       "version_major": 2,
       "version_minor": 0
      },
      "text/plain": [
       "FigureWidget({\n",
       "    'data': [{'mode': 'lines',\n",
       "              'name': 'Curve',\n",
       "              'scene': 'scene',\n",
       "              'type': 'scatter3d',\n",
       "              'uid': '4a0d6af4-15ec-4331-a240-956828749f5f',\n",
       "              'x': array([-7.39384897e-07,  1.57005630e-03,  3.14084810e-03, ..., -3.13872258e-03,\n",
       "                          -1.56793275e-03,  2.86094794e-06]),\n",
       "              'y': array([-2.75678812, -2.75678688, -2.75678318, ..., -2.7567762 , -2.7567799 ,\n",
       "                          -2.75678113]),\n",
       "              'z': array([-2.37618246e-06, -2.37519295e-06, -2.36826632e-06, ...,  5.38764284e-06,\n",
       "                           5.39463216e-06,  5.39567627e-06])},\n",
       "             {'marker': {'color': 'black', 'size': 4},\n",
       "              'mode': 'markers',\n",
       "              'name': 'Point',\n",
       "              'scene': 'scene',\n",
       "              'type': 'scatter3d',\n",
       "              'uid': 'e3c44612-9567-42a1-ba91-893e915d6b10',\n",
       "              'visible': 'legendonly',\n",
       "              'x': array([-7.39384897e-07]),\n",
       "              'y': array([-2.75678812]),\n",
       "              'z': array([-2.37618246e-06])},\n",
       "             {'legendgroup': 'A26C9267',\n",
       "              'line': {'color': 'green', 'width': 3},\n",
       "              'mode': 'lines',\n",
       "              'name': 'T',\n",
       "              'scene': 'scene',\n",
       "              'type': 'scatter3d',\n",
       "              'uid': 'd8114b4e-df9d-4670-a33d-ba54bd252dc6',\n",
       "              'visible': 'legendonly',\n",
       "              'x': [-7.393848969750039e-07, 0.7999992606151031],\n",
       "              'y': [-2.75678811824123, -2.75678811824123],\n",
       "              'z': [-2.3761824645696095e-06, -2.3761824645696095e-06]},\n",
       "             {'anchor': 'tail',\n",
       "              'colorscale': [[0.0, 'green'], [1.0, 'green']],\n",
       "              'legendgroup': 'A26C9267',\n",
       "              'name': 'T',\n",
       "              'scene': 'scene',\n",
       "              'showlegend': False,\n",
       "              'sizemode': 'scaled',\n",
       "              'sizeref': 1,\n",
       "              'type': 'cone',\n",
       "              'u': [0.2],\n",
       "              'uid': '07d0088e-cb6f-4647-a7de-db1575ba451a',\n",
       "              'v': [0.0],\n",
       "              'visible': 'legendonly',\n",
       "              'w': [0.0],\n",
       "              'x': [0.7999992606151031],\n",
       "              'y': [-2.75678811824123],\n",
       "              'z': [-2.3761824645696095e-06]},\n",
       "             {'legendgroup': '161E4F71',\n",
       "              'line': {'color': 'red', 'width': 3},\n",
       "              'mode': 'lines',\n",
       "              'name': 'N',\n",
       "              'scene': 'scene',\n",
       "              'type': 'scatter3d',\n",
       "              'uid': 'a2b3b2f9-9748-43cb-87d2-3a2e6f9030cf',\n",
       "              'visible': 'legendonly',\n",
       "              'x': [-7.393848969750039e-07, -7.393848969750039e-07],\n",
       "              'y': [-2.75678811824123, -1.95678811824123],\n",
       "              'z': [-2.3761824645696095e-06, -2.3761824645696095e-06]},\n",
       "             {'anchor': 'tail',\n",
       "              'colorscale': [[0.0, 'red'], [1.0, 'red']],\n",
       "              'legendgroup': '161E4F71',\n",
       "              'name': 'N',\n",
       "              'scene': 'scene',\n",
       "              'showlegend': False,\n",
       "              'sizemode': 'scaled',\n",
       "              'sizeref': 1,\n",
       "              'type': 'cone',\n",
       "              'u': [0.0],\n",
       "              'uid': '21909adc-f16a-4f01-924a-0ac38f9b8145',\n",
       "              'v': [0.2],\n",
       "              'visible': 'legendonly',\n",
       "              'w': [0.0],\n",
       "              'x': [-7.393848969750039e-07],\n",
       "              'y': [-1.95678811824123],\n",
       "              'z': [-2.3761824645696095e-06]},\n",
       "             {'legendgroup': 'E22EAC6D',\n",
       "              'line': {'color': 'gold', 'width': 3},\n",
       "              'mode': 'lines',\n",
       "              'name': 'B',\n",
       "              'scene': 'scene',\n",
       "              'type': 'scatter3d',\n",
       "              'uid': 'ccb13f79-2a41-4472-afdc-85d24a37e066',\n",
       "              'visible': 'legendonly',\n",
       "              'x': [-7.393848969750039e-07, -7.393848969750039e-07],\n",
       "              'y': [-2.75678811824123, -2.75678811824123],\n",
       "              'z': [-2.3761824645696095e-06, 0.7999976238175355]},\n",
       "             {'anchor': 'tail',\n",
       "              'colorscale': [[0.0, 'gold'], [1.0, 'gold']],\n",
       "              'legendgroup': 'E22EAC6D',\n",
       "              'name': 'B',\n",
       "              'scene': 'scene',\n",
       "              'showlegend': False,\n",
       "              'sizemode': 'scaled',\n",
       "              'sizeref': 1,\n",
       "              'type': 'cone',\n",
       "              'u': [0.0],\n",
       "              'uid': '6aab9266-66b5-4f96-bb82-c86b11bf3243',\n",
       "              'v': [0.0],\n",
       "              'visible': 'legendonly',\n",
       "              'w': [0.2],\n",
       "              'x': [-7.393848969750039e-07],\n",
       "              'y': [-2.75678811824123],\n",
       "              'z': [0.7999976238175355]}],\n",
       "    'layout': {'scene': {'aspectmode': 'manual',\n",
       "                         'aspectratio': {'x': 1.0, 'y': 1.0, 'z': 1.0},\n",
       "                         'domain': {'x': [0.0, 1.0], 'y': [0.0, 1.0]},\n",
       "                         'xaxis': {'range': [-3.75678811824123, 3.75678811824123], 'title': {'text': 'x'}},\n",
       "                         'yaxis': {'range': [-3.75678811824123, 3.75678811824123], 'title': {'text': 'y'}},\n",
       "                         'zaxis': {'range': [-3.75678811824123, 3.75678811824123], 'title': {'text': 'z'}}},\n",
       "               'template': '...'}\n",
       "})"
      ]
     },
     "execution_count": 15,
     "metadata": {},
     "output_type": "execute_result"
    }
   ],
   "source": [
    "def kappa(s): return 1\n",
    "def tau(s): return magic_a * np.cos(s)\n",
    "s_values = np.linspace(0, 8*np.pi, 16001)\n",
    "frenet_interactive(kappa, tau, s_values)"
   ]
  },
  {
   "cell_type": "markdown",
   "id": "b6a90bc9",
   "metadata": {},
   "source": [
    "<br>\n",
    "<br>\n",
    "<br>\n",
    "<br>\n",
    "<br>\n",
    "\n",
    "### Next with a period of $10\\pi$ (five oscillations as it goes around the loop)"
   ]
  },
  {
   "cell_type": "code",
   "execution_count": 16,
   "id": "bd10b5c7",
   "metadata": {},
   "outputs": [
    {
     "name": "stdout",
     "output_type": "stream",
     "text": [
      "Magic value of parameter is 1.6398418426513675\n"
     ]
    }
   ],
   "source": [
    "def kappa(a, s): return 1\n",
    "def tau(a, s): return a * np.cos(s)\n",
    "s_values = np.linspace(0, 10*np.pi, 20001)\n",
    "magic_a = frenet_close_curve(kappa, tau, 1.6, 1.7, s_values)\n",
    "print(f\"Magic value of parameter is {magic_a}\")"
   ]
  },
  {
   "cell_type": "code",
   "execution_count": 17,
   "id": "09002056",
   "metadata": {},
   "outputs": [
    {
     "data": {
      "application/vnd.jupyter.widget-view+json": {
       "model_id": "69018f6700404472bafbb1d272f398fe",
       "version_major": 2,
       "version_minor": 0
      },
      "text/plain": [
       "interactive(children=(SelectionSlider(description='$s$', options=(0.0, 0.0015707963267948967, 0.00314159265358…"
      ]
     },
     "metadata": {},
     "output_type": "display_data"
    },
    {
     "data": {
      "application/vnd.jupyter.widget-view+json": {
       "model_id": "9a15a937bba3434fbdb790093e7a1af4",
       "version_major": 2,
       "version_minor": 0
      },
      "text/plain": [
       "FigureWidget({\n",
       "    'data': [{'mode': 'lines',\n",
       "              'name': 'Curve',\n",
       "              'scene': 'scene',\n",
       "              'type': 'scatter3d',\n",
       "              'uid': '8ca1fa3f-1198-40ff-ac5b-e9015a1252d6',\n",
       "              'x': array([-8.19465958e-07,  1.56997621e-03,  3.14076802e-03, ..., -3.14246774e-03,\n",
       "                          -1.57167850e-03, -8.85395033e-07]),\n",
       "              'y': array([-3.43814567, -3.43814444, -3.43814074, ..., -3.43813081, -3.43813452,\n",
       "                          -3.43813575]),\n",
       "              'z': array([-2.62248459e-06, -2.62142531e-06, -2.61401037e-06, ..., -6.06912015e-06,\n",
       "                          -6.06212834e-06, -6.06149018e-06])},\n",
       "             {'marker': {'color': 'black', 'size': 4},\n",
       "              'mode': 'markers',\n",
       "              'name': 'Point',\n",
       "              'scene': 'scene',\n",
       "              'type': 'scatter3d',\n",
       "              'uid': '4c968485-10ee-4078-8630-e1034c5f406f',\n",
       "              'visible': 'legendonly',\n",
       "              'x': array([-8.19465958e-07]),\n",
       "              'y': array([-3.43814567]),\n",
       "              'z': array([-2.62248459e-06])},\n",
       "             {'legendgroup': '13F06D26',\n",
       "              'line': {'color': 'green', 'width': 3},\n",
       "              'mode': 'lines',\n",
       "              'name': 'T',\n",
       "              'scene': 'scene',\n",
       "              'type': 'scatter3d',\n",
       "              'uid': '1a2589d1-8f8d-424f-aea9-2ea0c9ddd625',\n",
       "              'visible': 'legendonly',\n",
       "              'x': [-8.194659575355701e-07, 0.7999991805340425],\n",
       "              'y': [-3.4381456744938426, -3.4381456744938426],\n",
       "              'z': [-2.6224845859346146e-06, -2.6224845859346146e-06]},\n",
       "             {'anchor': 'tail',\n",
       "              'colorscale': [[0.0, 'green'], [1.0, 'green']],\n",
       "              'legendgroup': '13F06D26',\n",
       "              'name': 'T',\n",
       "              'scene': 'scene',\n",
       "              'showlegend': False,\n",
       "              'sizemode': 'scaled',\n",
       "              'sizeref': 1,\n",
       "              'type': 'cone',\n",
       "              'u': [0.2],\n",
       "              'uid': 'b59b039f-1d8e-47c5-92ad-b7e883359572',\n",
       "              'v': [0.0],\n",
       "              'visible': 'legendonly',\n",
       "              'w': [0.0],\n",
       "              'x': [0.7999991805340425],\n",
       "              'y': [-3.4381456744938426],\n",
       "              'z': [-2.6224845859346146e-06]},\n",
       "             {'legendgroup': '35FF7792',\n",
       "              'line': {'color': 'red', 'width': 3},\n",
       "              'mode': 'lines',\n",
       "              'name': 'N',\n",
       "              'scene': 'scene',\n",
       "              'type': 'scatter3d',\n",
       "              'uid': 'd93e07bc-6d25-4fb8-bdb4-dccf359f62d7',\n",
       "              'visible': 'legendonly',\n",
       "              'x': [-8.194659575355701e-07, -8.194659575355701e-07],\n",
       "              'y': [-3.4381456744938426, -2.6381456744938427],\n",
       "              'z': [-2.6224845859346146e-06, -2.6224845859346146e-06]},\n",
       "             {'anchor': 'tail',\n",
       "              'colorscale': [[0.0, 'red'], [1.0, 'red']],\n",
       "              'legendgroup': '35FF7792',\n",
       "              'name': 'N',\n",
       "              'scene': 'scene',\n",
       "              'showlegend': False,\n",
       "              'sizemode': 'scaled',\n",
       "              'sizeref': 1,\n",
       "              'type': 'cone',\n",
       "              'u': [0.0],\n",
       "              'uid': 'f1b762ac-ec9c-46be-a80e-dc56cd0944db',\n",
       "              'v': [0.2],\n",
       "              'visible': 'legendonly',\n",
       "              'w': [0.0],\n",
       "              'x': [-8.194659575355701e-07],\n",
       "              'y': [-2.6381456744938427],\n",
       "              'z': [-2.6224845859346146e-06]},\n",
       "             {'legendgroup': '987AC93C',\n",
       "              'line': {'color': 'gold', 'width': 3},\n",
       "              'mode': 'lines',\n",
       "              'name': 'B',\n",
       "              'scene': 'scene',\n",
       "              'type': 'scatter3d',\n",
       "              'uid': '94e0fcab-5544-4c25-8ab0-5790187067bd',\n",
       "              'visible': 'legendonly',\n",
       "              'x': [-8.194659575355701e-07, -8.194659575355701e-07],\n",
       "              'y': [-3.4381456744938426, -3.4381456744938426],\n",
       "              'z': [-2.6224845859346146e-06, 0.7999973775154141]},\n",
       "             {'anchor': 'tail',\n",
       "              'colorscale': [[0.0, 'gold'], [1.0, 'gold']],\n",
       "              'legendgroup': '987AC93C',\n",
       "              'name': 'B',\n",
       "              'scene': 'scene',\n",
       "              'showlegend': False,\n",
       "              'sizemode': 'scaled',\n",
       "              'sizeref': 1,\n",
       "              'type': 'cone',\n",
       "              'u': [0.0],\n",
       "              'uid': '0b643ae9-704f-41f3-8afb-ca8d0921aa3f',\n",
       "              'v': [0.0],\n",
       "              'visible': 'legendonly',\n",
       "              'w': [0.2],\n",
       "              'x': [-8.194659575355701e-07],\n",
       "              'y': [-3.4381456744938426],\n",
       "              'z': [0.7999973775154141]}],\n",
       "    'layout': {'scene': {'aspectmode': 'manual',\n",
       "                         'aspectratio': {'x': 1.0, 'y': 1.0, 'z': 1.0},\n",
       "                         'domain': {'x': [0.0, 1.0], 'y': [0.0, 1.0]},\n",
       "                         'xaxis': {'range': [-4.438145674493843, 4.438145674493843], 'title': {'text': 'x'}},\n",
       "                         'yaxis': {'range': [-4.438145674493843, 4.438145674493843], 'title': {'text': 'y'}},\n",
       "                         'zaxis': {'range': [-4.438145674493843, 4.438145674493843], 'title': {'text': 'z'}}},\n",
       "               'template': '...'}\n",
       "})"
      ]
     },
     "execution_count": 17,
     "metadata": {},
     "output_type": "execute_result"
    }
   ],
   "source": [
    "def kappa(s): return 1\n",
    "def tau(s): return magic_a * np.cos(s)\n",
    "s_values = np.linspace(0, 10*np.pi, 20001)\n",
    "frenet_interactive(kappa, tau, s_values)"
   ]
  },
  {
   "cell_type": "markdown",
   "id": "4895affb",
   "metadata": {},
   "source": [
    "<br>\n",
    "<br>\n",
    "<br>\n",
    "<br>\n",
    "<br>\n",
    "\n",
    "### Next with a period of $12\\pi$ (six oscillations as it goes around the loop)"
   ]
  },
  {
   "cell_type": "code",
   "execution_count": 18,
   "id": "17b6a0b7",
   "metadata": {},
   "outputs": [
    {
     "name": "stdout",
     "output_type": "stream",
     "text": [
      "Magic value of parameter is 1.712703323364258\n"
     ]
    }
   ],
   "source": [
    "def kappa(a, s): return 1\n",
    "def tau(a, s): return a * np.cos(s)\n",
    "s_values = np.linspace(0, 12*np.pi, 12001)\n",
    "magic_a = frenet_close_curve(kappa, tau, 1.7, 1.8, s_values)\n",
    "print(f\"Magic value of parameter is {magic_a}\")"
   ]
  },
  {
   "cell_type": "code",
   "execution_count": 19,
   "id": "2112c255",
   "metadata": {},
   "outputs": [
    {
     "data": {
      "application/vnd.jupyter.widget-view+json": {
       "model_id": "337eea6debbd4bfd93ead13d9c6d5c1d",
       "version_major": 2,
       "version_minor": 0
      },
      "text/plain": [
       "interactive(children=(SelectionSlider(description='$s$', options=(0.0, 0.0031415926535897933, 0.00628318530717…"
      ]
     },
     "metadata": {},
     "output_type": "display_data"
    },
    {
     "data": {
      "application/vnd.jupyter.widget-view+json": {
       "model_id": "8403b12507e04f3c8365997be60eac89",
       "version_major": 2,
       "version_minor": 0
      },
      "text/plain": [
       "FigureWidget({\n",
       "    'data': [{'mode': 'lines',\n",
       "              'name': 'Curve',\n",
       "              'scene': 'scene',\n",
       " …"
      ]
     },
     "metadata": {},
     "output_type": "display_data"
    }
   ],
   "source": [
    "def kappa(s): return 1\n",
    "def tau(s): return magic_a * np.cos(s)\n",
    "s_values = np.linspace(0, 12*np.pi, 12001)\n",
    "frenet_interactive(kappa, tau, s_values)"
   ]
  },
  {
   "cell_type": "markdown",
   "id": "974c36f0",
   "metadata": {},
   "source": [
    "### etc...\n"
   ]
  },
  {
   "cell_type": "markdown",
   "id": "11c7401e",
   "metadata": {},
   "source": [
    "<br>\n",
    "<br>\n",
    "<br>\n",
    "<br>\n",
    "<br>\n",
    "\n",
    "## What happens if instead of increasing the amplitude of the cosine function (the torsion), we decrease it? \n",
    "\n",
    "### With various periods, this can yield other interesting closed loops. They all have some self-intersections, but some interesting shapes appear. \n"
   ]
  },
  {
   "cell_type": "markdown",
   "id": "9142a8eb",
   "metadata": {},
   "source": [
    "### First, with a period of $6\\pi$ (three full oscillations)"
   ]
  },
  {
   "cell_type": "code",
   "execution_count": 20,
   "id": "1b3bbdfd",
   "metadata": {},
   "outputs": [
    {
     "name": "stdout",
     "output_type": "stream",
     "text": [
      "Magic value of parameter is 0.6690608978271483\n"
     ]
    }
   ],
   "source": [
    "def kappa(a, s): return 1\n",
    "def tau(a, s): return a * np.cos(s)\n",
    "s_values = np.linspace(0, 6*np.pi, 12001)\n",
    "magic_a = frenet_close_curve(kappa, tau, 0.6, 0.7, s_values)\n",
    "print(f\"Magic value of parameter is {magic_a}\")"
   ]
  },
  {
   "cell_type": "code",
   "execution_count": 21,
   "id": "3eee2dee",
   "metadata": {},
   "outputs": [
    {
     "data": {
      "application/vnd.jupyter.widget-view+json": {
       "model_id": "56c5dcd0eb224e909d4623d0bb82063b",
       "version_major": 2,
       "version_minor": 0
      },
      "text/plain": [
       "interactive(children=(SelectionSlider(description='$s$', options=(0.0, 0.0015707963267948967, 0.00314159265358…"
      ]
     },
     "metadata": {},
     "output_type": "display_data"
    },
    {
     "data": {
      "application/vnd.jupyter.widget-view+json": {
       "model_id": "8b3a9fcd0fea4bac999f8f28710da765",
       "version_major": 2,
       "version_minor": 0
      },
      "text/plain": [
       "FigureWidget({\n",
       "    'data': [{'mode': 'lines',\n",
       "              'name': 'Curve',\n",
       "              'scene': 'scene',\n",
       " …"
      ]
     },
     "metadata": {},
     "output_type": "display_data"
    }
   ],
   "source": [
    "def kappa(s): return 1\n",
    "def tau(s): return magic_a * np.cos(s)\n",
    "s_values = np.linspace(0, 6*np.pi, 12001)\n",
    "frenet_interactive(kappa, tau, s_values)"
   ]
  },
  {
   "cell_type": "markdown",
   "id": "a881bba4",
   "metadata": {},
   "source": [
    "<br>\n",
    "<br>\n",
    "<br>\n",
    "<br>\n",
    "<br>\n",
    "\n",
    "### Next, with a period of $8\\pi$ (four full oscillations)"
   ]
  },
  {
   "cell_type": "code",
   "execution_count": 22,
   "id": "eb826c70",
   "metadata": {},
   "outputs": [
    {
     "name": "stdout",
     "output_type": "stream",
     "text": [
      "Magic value of parameter is 0.5009951782226563\n"
     ]
    }
   ],
   "source": [
    "def kappa(a, s): return 1\n",
    "def tau(a, s): return a * np.cos(s)\n",
    "s_values = np.linspace(0, 8*np.pi, 16001)\n",
    "magic_a = frenet_close_curve(kappa, tau, 0.48, 0.52, s_values)\n",
    "print(f\"Magic value of parameter is {magic_a}\")"
   ]
  },
  {
   "cell_type": "code",
   "execution_count": 23,
   "id": "7f694a3d",
   "metadata": {},
   "outputs": [
    {
     "data": {
      "application/vnd.jupyter.widget-view+json": {
       "model_id": "bc0829756f694ef693e7ac795b1a5c14",
       "version_major": 2,
       "version_minor": 0
      },
      "text/plain": [
       "interactive(children=(SelectionSlider(description='$s$', options=(0.0, 0.0015707963267948967, 0.00314159265358…"
      ]
     },
     "metadata": {},
     "output_type": "display_data"
    },
    {
     "data": {
      "application/vnd.jupyter.widget-view+json": {
       "model_id": "8710c1c787164a2e88c322e5a7379a95",
       "version_major": 2,
       "version_minor": 0
      },
      "text/plain": [
       "FigureWidget({\n",
       "    'data': [{'mode': 'lines',\n",
       "              'name': 'Curve',\n",
       "              'scene': 'scene',\n",
       " …"
      ]
     },
     "metadata": {},
     "output_type": "display_data"
    }
   ],
   "source": [
    "def kappa(s): return 1\n",
    "def tau(s): return magic_a * np.cos(s)\n",
    "s_values = np.linspace(0, 8*np.pi, 16001)\n",
    "frenet_interactive(kappa, tau, s_values)"
   ]
  },
  {
   "cell_type": "markdown",
   "id": "74cb83ed",
   "metadata": {},
   "source": [
    "<br>\n",
    "<br>\n",
    "<br>\n",
    "<br>\n",
    "<br>\n",
    "\n",
    "### Next, with a period of $10\\pi$ (five full oscillations)"
   ]
  },
  {
   "cell_type": "code",
   "execution_count": 24,
   "id": "d3a7a6dd",
   "metadata": {},
   "outputs": [
    {
     "name": "stdout",
     "output_type": "stream",
     "text": [
      "Magic value of parameter is 0.4005062866210937\n"
     ]
    }
   ],
   "source": [
    "def kappa(a, s): return 1\n",
    "def tau(a, s): return a * np.cos(s)\n",
    "s_values = np.linspace(0, 10*np.pi, 20001)\n",
    "magic_a = frenet_close_curve(kappa, tau, 0.38, 0.42, s_values)\n",
    "print(f\"Magic value of parameter is {magic_a}\")"
   ]
  },
  {
   "cell_type": "code",
   "execution_count": 25,
   "id": "c5a597a8",
   "metadata": {},
   "outputs": [
    {
     "data": {
      "application/vnd.jupyter.widget-view+json": {
       "model_id": "2e6fd9b556174c8a97963e5a9cedaa64",
       "version_major": 2,
       "version_minor": 0
      },
      "text/plain": [
       "interactive(children=(SelectionSlider(description='$s$', options=(0.0, 0.0015707963267948967, 0.00314159265358…"
      ]
     },
     "metadata": {},
     "output_type": "display_data"
    },
    {
     "data": {
      "application/vnd.jupyter.widget-view+json": {
       "model_id": "b5f0d9f49c00412a9cff1f5a0aed4416",
       "version_major": 2,
       "version_minor": 0
      },
      "text/plain": [
       "FigureWidget({\n",
       "    'data': [{'mode': 'lines',\n",
       "              'name': 'Curve',\n",
       "              'scene': 'scene',\n",
       " …"
      ]
     },
     "metadata": {},
     "output_type": "display_data"
    }
   ],
   "source": [
    "def kappa(s): return 1\n",
    "def tau(s): return magic_a * np.cos(s)\n",
    "s_values = np.linspace(0, 10*np.pi, 20001)\n",
    "frenet_interactive(kappa, tau, s_values)"
   ]
  },
  {
   "cell_type": "markdown",
   "id": "d2406898",
   "metadata": {},
   "source": [
    "<br>\n",
    "<br>\n",
    "<br>\n",
    "<br>\n",
    "<br>\n",
    "\n",
    "### Next, with a period of $12\\pi$ (six full oscillations)"
   ]
  },
  {
   "cell_type": "code",
   "execution_count": 26,
   "id": "ff5204e1",
   "metadata": {},
   "outputs": [
    {
     "name": "stdout",
     "output_type": "stream",
     "text": [
      "Magic value of parameter is 0.33362518310546874\n"
     ]
    }
   ],
   "source": [
    "def kappa(a, s): return 1\n",
    "def tau(a, s): return a * np.cos(s)\n",
    "s_values = np.linspace(0, 12*np.pi, 12001)\n",
    "magic_a = frenet_close_curve(kappa, tau, 0.31, 0.35, s_values)\n",
    "print(f\"Magic value of parameter is {magic_a}\")"
   ]
  },
  {
   "cell_type": "code",
   "execution_count": 27,
   "id": "4cb73a79",
   "metadata": {},
   "outputs": [
    {
     "data": {
      "application/vnd.jupyter.widget-view+json": {
       "model_id": "ac6c0a8b9df546838e40de3b3dc778ee",
       "version_major": 2,
       "version_minor": 0
      },
      "text/plain": [
       "interactive(children=(SelectionSlider(description='$s$', options=(0.0, 0.0031415926535897933, 0.00628318530717…"
      ]
     },
     "metadata": {},
     "output_type": "display_data"
    },
    {
     "data": {
      "application/vnd.jupyter.widget-view+json": {
       "model_id": "4155389914d04d2fb3f8cf668967d06f",
       "version_major": 2,
       "version_minor": 0
      },
      "text/plain": [
       "FigureWidget({\n",
       "    'data': [{'mode': 'lines',\n",
       "              'name': 'Curve',\n",
       "              'scene': 'scene',\n",
       " …"
      ]
     },
     "metadata": {},
     "output_type": "display_data"
    }
   ],
   "source": [
    "def kappa(s): return 1\n",
    "def tau(s): return magic_a * np.cos(s)\n",
    "s_values = np.linspace(0, 12*np.pi, 12001)\n",
    "frenet_interactive(kappa, tau, s_values)"
   ]
  },
  {
   "cell_type": "markdown",
   "id": "3765f8b4",
   "metadata": {},
   "source": [
    "<br>\n",
    "<br>\n",
    "<br>\n",
    "<br>\n",
    "<br>\n",
    "\n",
    "## Here, just for fun, we try a curve with periodic curvature *and* periodic torsion. \n",
    "\n",
    "### There's only one closed curve shown below, but you can find many more. Try playing around and see what you can find. \n"
   ]
  },
  {
   "cell_type": "code",
   "execution_count": 18,
   "id": "875fb6cb",
   "metadata": {},
   "outputs": [
    {
     "data": {
      "application/vnd.jupyter.widget-view+json": {
       "model_id": "c4051efac4a74aa4958ee6fd2a11e35e",
       "version_major": 2,
       "version_minor": 0
      },
      "text/plain": [
       "interactive(children=(FloatSlider(value=0.0, description='Amplitude', max=2.0, step=0.01), SelectionSlider(des…"
      ]
     },
     "metadata": {},
     "output_type": "display_data"
    },
    {
     "data": {
      "application/vnd.jupyter.widget-view+json": {
       "model_id": "ae09382212c34e0090a2d6051e5845aa",
       "version_major": 2,
       "version_minor": 0
      },
      "text/plain": [
       "FigureWidget({\n",
       "    'data': [{'mode': 'lines',\n",
       "              'name': 'Curve',\n",
       "              'scene': 'scene',\n",
       "              'type': 'scatter3d',\n",
       "              'uid': '9469b4ed-2022-4967-8a67-b8d55e368d0c',\n",
       "              'x': array([ 1.3824596 ,  1.38403039,  1.38560117, ..., -1.38560111, -1.38403033,\n",
       "                          -1.38245954]),\n",
       "              'y': array([-0.6882641 , -0.68826163, -0.68825423, ..., -0.68825336, -0.68826076,\n",
       "                          -0.68826323]),\n",
       "              'z': array([0., 0., 0., ..., 0., 0., 0.])},\n",
       "             {'marker': {'color': 'black', 'size': 4},\n",
       "              'mode': 'markers',\n",
       "              'name': 'Point',\n",
       "              'scene': 'scene',\n",
       "              'type': 'scatter3d',\n",
       "              'uid': '481ef004-d61a-4614-97c8-3e2fced4b4a7',\n",
       "              'visible': 'legendonly',\n",
       "              'x': array([1.3824596]),\n",
       "              'y': array([-0.6882641]),\n",
       "              'z': array([0.])},\n",
       "             {'legendgroup': 'CA748EA8',\n",
       "              'line': {'color': 'green', 'width': 3},\n",
       "              'mode': 'lines',\n",
       "              'name': 'T',\n",
       "              'scene': 'scene',\n",
       "              'type': 'scatter3d',\n",
       "              'uid': '3c0cab6f-92e1-438a-ad1b-e21c6abd544f',\n",
       "              'visible': 'legendonly',\n",
       "              'x': [1.3824595954488974, 2.1824595954488974],\n",
       "              'y': [-0.6882640954405792, -0.6882640954405792],\n",
       "              'z': [0.0, 0.0]},\n",
       "             {'anchor': 'tail',\n",
       "              'colorscale': [[0.0, 'green'], [1.0, 'green']],\n",
       "              'legendgroup': 'CA748EA8',\n",
       "              'name': 'T',\n",
       "              'scene': 'scene',\n",
       "              'showlegend': False,\n",
       "              'sizemode': 'scaled',\n",
       "              'sizeref': 1,\n",
       "              'type': 'cone',\n",
       "              'u': [0.2],\n",
       "              'uid': 'e356b710-4234-42ce-954d-e2e5e4dbf2ea',\n",
       "              'v': [0.0],\n",
       "              'visible': 'legendonly',\n",
       "              'w': [0.0],\n",
       "              'x': [2.1824595954488974],\n",
       "              'y': [-0.6882640954405792],\n",
       "              'z': [0.0]},\n",
       "             {'legendgroup': '6CB404A4',\n",
       "              'line': {'color': 'red', 'width': 3},\n",
       "              'mode': 'lines',\n",
       "              'name': 'N',\n",
       "              'scene': 'scene',\n",
       "              'type': 'scatter3d',\n",
       "              'uid': '1db88b4f-fb16-4d3c-8e3b-244c5201f833',\n",
       "              'visible': 'legendonly',\n",
       "              'x': [1.3824595954488974, 1.3824595954488974],\n",
       "              'y': [-0.6882640954405792, 0.11173590455942084],\n",
       "              'z': [0.0, 0.0]},\n",
       "             {'anchor': 'tail',\n",
       "              'colorscale': [[0.0, 'red'], [1.0, 'red']],\n",
       "              'legendgroup': '6CB404A4',\n",
       "              'name': 'N',\n",
       "              'scene': 'scene',\n",
       "              'showlegend': False,\n",
       "              'sizemode': 'scaled',\n",
       "              'sizeref': 1,\n",
       "              'type': 'cone',\n",
       "              'u': [0.0],\n",
       "              'uid': '5016a245-16de-432a-89cc-6e3d0b5a62c1',\n",
       "              'v': [0.2],\n",
       "              'visible': 'legendonly',\n",
       "              'w': [0.0],\n",
       "              'x': [1.3824595954488974],\n",
       "              'y': [0.11173590455942084],\n",
       "              'z': [0.0]},\n",
       "             {'legendgroup': 'F0786815',\n",
       "              'line': {'color': 'gold', 'width': 3},\n",
       "              'mode': 'lines',\n",
       "              'name': 'B',\n",
       "              'scene': 'scene',\n",
       "              'type': 'scatter3d',\n",
       "              'uid': '593a947d-90e3-48d3-a9e9-cebdb874bca5',\n",
       "              'visible': 'legendonly',\n",
       "              'x': [1.3824595954488974, 1.3824595954488974],\n",
       "              'y': [-0.6882640954405792, -0.6882640954405792],\n",
       "              'z': [0.0, 0.8]},\n",
       "             {'anchor': 'tail',\n",
       "              'colorscale': [[0.0, 'gold'], [1.0, 'gold']],\n",
       "              'legendgroup': 'F0786815',\n",
       "              'name': 'B',\n",
       "              'scene': 'scene',\n",
       "              'showlegend': False,\n",
       "              'sizemode': 'scaled',\n",
       "              'sizeref': 1,\n",
       "              'type': 'cone',\n",
       "              'u': [0.0],\n",
       "              'uid': 'cc914d94-b5ba-4abe-ba84-e23878d2eb7f',\n",
       "              'v': [0.0],\n",
       "              'visible': 'legendonly',\n",
       "              'w': [0.2],\n",
       "              'x': [1.3824595954488974],\n",
       "              'y': [-0.6882640954405792],\n",
       "              'z': [0.8]}],\n",
       "    'layout': {'scene': {'aspectmode': 'manual',\n",
       "                         'aspectratio': {'x': 1.0, 'y': 1.0, 'z': 1.0},\n",
       "                         'domain': {'x': [0.0, 1.0], 'y': [0.0, 1.0]},\n",
       "                         'xaxis': {'range': [-2.898489361756777, 2.898489361756777], 'title': {'text': 'x'}},\n",
       "                         'yaxis': {'range': [-2.898489361756777, 2.898489361756777], 'title': {'text': 'y'}},\n",
       "                         'zaxis': {'range': [-2.898489361756777, 2.898489361756777], 'title': {'text': 'z'}}},\n",
       "               'template': '...'}\n",
       "})"
      ]
     },
     "execution_count": 18,
     "metadata": {},
     "output_type": "execute_result"
    }
   ],
   "source": [
    "def kappa(a, s): return 1 + np.cos(s)\n",
    "def tau(a, s): return a * np.sin(s)\n",
    "s_maxes = [(fr\"{n}π\", n*np.pi) for n in range(2, 13, 2)] + [(\"A lot\", 200.0)]\n",
    "parameter_interactive(kappa, tau, s_maxes, (0, 2, 0, \"Amplitude\"))"
   ]
  },
  {
   "cell_type": "code",
   "execution_count": 28,
   "id": "a1d68134",
   "metadata": {},
   "outputs": [
    {
     "name": "stdout",
     "output_type": "stream",
     "text": [
      "Magic value of parameter is 1.0624880981445313\n"
     ]
    }
   ],
   "source": [
    "def kappa(a, s): return 1 + np.cos(s)\n",
    "def tau(a, s): return a * np.sin(s)\n",
    "s_values = np.linspace(0, 6*np.pi, 60001)\n",
    "magic_a = frenet_close_curve(kappa, tau, 1.05, 1.07, s_values)\n",
    "print(f\"Magic value of parameter is {magic_a}\")"
   ]
  },
  {
   "cell_type": "code",
   "execution_count": 29,
   "id": "6b60846f",
   "metadata": {},
   "outputs": [
    {
     "data": {
      "application/vnd.jupyter.widget-view+json": {
       "model_id": "96c405e8677b4d69bb449bd7b26c463e",
       "version_major": 2,
       "version_minor": 0
      },
      "text/plain": [
       "interactive(children=(SelectionSlider(description='$s$', options=(0.0, 0.0031415926535897933, 0.00628318530717…"
      ]
     },
     "metadata": {},
     "output_type": "display_data"
    },
    {
     "data": {
      "application/vnd.jupyter.widget-view+json": {
       "model_id": "23f5f29e176c422d83b0e3e1423cf0cd",
       "version_major": 2,
       "version_minor": 0
      },
      "text/plain": [
       "FigureWidget({\n",
       "    'data': [{'mode': 'lines',\n",
       "              'name': 'Curve',\n",
       "              'scene': 'scene',\n",
       " …"
      ]
     },
     "metadata": {},
     "output_type": "display_data"
    }
   ],
   "source": [
    "def kappa(s): return 1 + np.cos(s)\n",
    "def tau(s): return magic_a * np.sin(s)\n",
    "s_values = np.linspace(0, 6*np.pi, 6001)\n",
    "options = dict(axes_ranges=((-10, 10), (-10, 10), (-10, 10)))\n",
    "frenet_interactive(kappa, tau, s_values, **options)"
   ]
  },
  {
   "cell_type": "code",
   "execution_count": null,
   "id": "662167cd",
   "metadata": {},
   "outputs": [],
   "source": []
  }
 ],
 "metadata": {
  "hide_input": false,
  "kernelspec": {
   "display_name": "Python 3 (ipykernel)",
   "language": "python",
   "name": "python3"
  },
  "language_info": {
   "codemirror_mode": {
    "name": "ipython",
    "version": 3
   },
   "file_extension": ".py",
   "mimetype": "text/x-python",
   "name": "python",
   "nbconvert_exporter": "python",
   "pygments_lexer": "ipython3",
   "version": "3.9.2"
  }
 },
 "nbformat": 4,
 "nbformat_minor": 5
}
