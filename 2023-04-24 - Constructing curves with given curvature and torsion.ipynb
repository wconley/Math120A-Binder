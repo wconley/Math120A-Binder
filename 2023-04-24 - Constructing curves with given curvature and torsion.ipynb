{
 "cells": [
  {
   "cell_type": "code",
   "execution_count": 1,
   "id": "baca1c13",
   "metadata": {},
   "outputs": [],
   "source": [
    "import numpy as np\n",
    "from ipywidgets import FloatSlider, IntSlider, SelectionSlider\n",
    "from scipy.integrate import solve_ivp\n",
    "\n",
    "import plotlymath as pm\n",
    "from myutils import interact"
   ]
  },
  {
   "cell_type": "code",
   "execution_count": 2,
   "id": "342880ab",
   "metadata": {},
   "outputs": [],
   "source": [
    "def frenet_integrate(kappa, tau, s_values, **options):\n",
    "    TNB_0 = options.pop(\"TNB_0\", np.identity(3))\n",
    "    alpha_0 = options.pop(\"alpha_0\", np.zeros(3))\n",
    "    assert(len(s_values.shape) == 1)\n",
    "    assert(TNB_0.shape == (3, 3))\n",
    "    assert(alpha_0.shape == (3,))\n",
    "\n",
    "    def frenet_serret(s, state):\n",
    "        k = kappa(s)\n",
    "        t = tau(s)\n",
    "        frenet_matrix = np.array((\n",
    "            ( 0,  k,  0), \n",
    "            (-k,  0,  t), \n",
    "            ( 0, -t,  0), \n",
    "        ))\n",
    "        return ( frenet_matrix @ state.reshape((3, 3)) ).flatten()\n",
    "\n",
    "    BIG_I = np.identity(3).reshape(3, 3, 1, 1)\n",
    "    def jacobian(s, state):\n",
    "        k = kappa(s)\n",
    "        t = tau(s)\n",
    "        frenet_matrix = np.array((\n",
    "            ( 0,  k,  0), \n",
    "            (-k,  0,  t), \n",
    "            ( 0, -t,  0), \n",
    "        ))\n",
    "        return (frenet_matrix * BIG_I).transpose((2, 0, 3, 1)).reshape((9, 9))\n",
    "\n",
    "    # Solve the ODE to get T, N, And B as functions of s\n",
    "    #solve_options = {\"method\": \"LSODA\", \"jac\": jacobian, \"dense_output\": True, \n",
    "    #                 \"atol\": 1e-10, \"rtol\": 1e-6}\n",
    "    solve_options = {\"method\": \"DOP853\", \"dense_output\": True, \"atol\": 1e-10, \"rtol\": 1e-6}\n",
    "    s_range = (s_values[0], s_values[-1])\n",
    "    solution = solve_ivp(frenet_serret, s_range, TNB_0.flatten(), **solve_options)\n",
    "    TNB = solution.sol(s_values)\n",
    "    # Perform composite Simpson's rule on T to get position at each s value\n",
    "    simpson = TNB[:3].copy()\n",
    "    T_mid = solution.sol((s_values[:-1] + s_values[1:]) / 2)[:3]\n",
    "    simpson[:,1:] += simpson[:,:-1] + 4*T_mid\n",
    "    simpson[:,1:] *= (s_values[1:] - s_values[:-1]) / 6\n",
    "    simpson[:,0] = alpha_0\n",
    "    return ( np.cumsum(simpson, axis=-1).T, TNB.T.reshape((-1, 3, 3)) )\n"
   ]
  },
  {
   "cell_type": "code",
   "execution_count": 3,
   "id": "c8296856",
   "metadata": {},
   "outputs": [],
   "source": [
    "def frenet_close_curve(kappa, tau, param_min, param_max, s_values, **options):\n",
    "    \"\"\"Approximate value of parameter that makes a closed curve\n",
    "\n",
    "    kappa and tau should have signature kappa(a, s), where \"a\" is a parameter\n",
    "    \"\"\"\n",
    "    accuracy = options.pop(\"accuracy\", 1e-6)\n",
    "    TNB_0 = options.setdefault(\"TNB_0\", np.identity(3))\n",
    "    alpha_0 = options.setdefault(\"alpha_0\", np.zeros(3))\n",
    "    N0 = TNB_0[1]\n",
    "    B0 = TNB_0[2]\n",
    "    param = param_min\n",
    "    vector_min = None\n",
    "    vector_max = None\n",
    "    def k(s): return kappa(param, s)\n",
    "    def t(s): return tau(param, s)\n",
    "    while abs(param_max - param_min) > accuracy:\n",
    "        alpha, TNB = frenet_integrate(k, t, s_values, **options)\n",
    "        vector = alpha[-1] - alpha_0\n",
    "        if vector_min is None:\n",
    "            vector_min = vector\n",
    "            param = param_max\n",
    "        elif vector_max is None:\n",
    "            vector_max = vector\n",
    "            param = (param_min + param_max) / 2\n",
    "        else:\n",
    "            a = vector @ vector_min\n",
    "            b = vector @ vector_max\n",
    "            if a < 0 and b > 0:\n",
    "                #print(f\"Closer to max!\")\n",
    "                #print(f\"    {vector} is closer to {vector_max} ({b})\")\n",
    "                #print(f\"    than to {vector_min} ({a})\")\n",
    "                param_max = param\n",
    "                vector_max = vector\n",
    "            elif a > 0 and b < 0:\n",
    "                #print(f\"Closer to min!\")\n",
    "                #print(f\"    {vector} is closer to {vector_min} ({a})\")\n",
    "                #print(f\"    than to {vector_max} ({b})\")\n",
    "                param_min = param\n",
    "                vector_min = vector\n",
    "            else:\n",
    "                print(f\"Can't continue!\")\n",
    "                print(f\"    Current vector = {vector}\")\n",
    "                print(f\"    Dot product with vector_min={vector_min} is {a}\")\n",
    "                print(f\"    Dot product with vector_max={vector_max} is {b}\")\n",
    "                break\n",
    "            #print(f\"    New range: {param_min} ≤ a ≤ {param_max}\")\n",
    "            param = (param_min + param_max) / 2\n",
    "    return param\n"
   ]
  },
  {
   "cell_type": "code",
   "execution_count": 4,
   "id": "648db2ef",
   "metadata": {},
   "outputs": [],
   "source": [
    "def frenet_interactive(kappa, tau, s_values, **options):\n",
    "    TNB_0 = options.setdefault(\"TNB_0\", np.identity(3))\n",
    "    alpha_0 = options.setdefault(\"alpha_0\", np.zeros(3))\n",
    "    figure, plot = pm.make_figure(widget=True, specs=[[{\"type\": \"scene\"}]])\n",
    "    plot.axes_labels(*options.pop(\"axes_labels\", (\"x\", \"y\", \"z\")))\n",
    "    alpha, TNB = frenet_integrate(kappa, tau, s_values)\n",
    "\n",
    "    alpha_min = np.min(alpha, axis=0)\n",
    "    alpha_max = np.max(alpha, axis=0)\n",
    "    alpha -= (alpha_max + alpha_min) / 2\n",
    "    xmax = 0.5 * (alpha_max - alpha_min).max()\n",
    "    xmax = max(xmax + 1, xmax * 1.2)\n",
    "    plot.axes_ranges((-xmax, xmax), (-xmax, xmax), (-xmax, xmax), scale=(1, 1, 1))\n",
    "    plot.lines3d(alpha, name=\"Curve\", id=\"Curve\")\n",
    "\n",
    "    @interact(s=SelectionSlider(options=s_values, description=\"$s$\"))\n",
    "    def update(s):\n",
    "        i = np.argmin(np.abs(s_values - s))\n",
    "        with figure.batch_update():\n",
    "            plot.points3d([alpha[i]], size=4, color=\"black\", name=\"Point\", id=\"Point\")\n",
    "            plot.vector3d(TNB[i,0], start=alpha[i], color=\"green\", name=\"T\", id=\"T\")\n",
    "            plot.vector3d(TNB[i,1], start=alpha[i], color=\"red\",   name=\"N\", id=\"N\")\n",
    "            plot.vector3d(TNB[i,2], start=alpha[i], color=\"gold\",  name=\"B\", id=\"B\")\n",
    "\n",
    "    plot[\"Point\"].update(visible=\"legendonly\")\n",
    "    for v in (\"T\", \"N\", \"B\"):\n",
    "        for trace in plot[v]:\n",
    "            trace.update(visible=\"legendonly\")\n",
    "    return figure\n"
   ]
  },
  {
   "cell_type": "code",
   "execution_count": 5,
   "id": "44ba561a",
   "metadata": {},
   "outputs": [],
   "source": [
    "def parameter_interactive(kappa, tau, s_maxes, param_range, **options):\n",
    "    samples = options.pop(\"samples\", 4001)\n",
    "    TNB_0 = options.setdefault(\"TNB_0\", np.identity(3))\n",
    "    alpha_0 = options.setdefault(\"alpha_0\", np.zeros(3))\n",
    "    figure, plot = pm.make_figure(widget=True, specs=[[{\"type\": \"scene\"}]])\n",
    "    plot.axes_labels(*options.pop(\"axes_labels\", (\"x\", \"y\", \"z\")))\n",
    "\n",
    "    amin, amax, avalue, alabel = param_range\n",
    "    @interact(a=FloatSlider(min=amin, max=amax, value=avalue, \n",
    "                            step=(amax - amin) / 200, description=alabel), \n",
    "              s_max=SelectionSlider(options=s_maxes, description=\"$s_{max}$\"), \n",
    "              pos=FloatSlider(min=0, max=1, value=0, step=0.01, description=\"position\"))\n",
    "    def update(a, s_max, pos):\n",
    "        def k(s): return kappa(a, s)\n",
    "        def t(s): return tau(a, s)\n",
    "        s_values = np.linspace(0, s_max, samples)\n",
    "        alpha, TNB = frenet_integrate(k, t, s_values, **options)\n",
    "        alpha_min = np.min(alpha, axis=0)\n",
    "        alpha_max = np.max(alpha, axis=0)\n",
    "        alpha -= (alpha_max + alpha_min) / 2\n",
    "        xmax = 0.5 * (alpha_max - alpha_min).max()\n",
    "        xmax = max(xmax + 1, xmax * 1.2)\n",
    "        i = round(pos * (samples - 1))\n",
    "        with figure.batch_update():\n",
    "            plot.axes_ranges((-xmax, xmax), (-xmax, xmax), (-xmax, xmax), scale=(1, 1, 1))\n",
    "            plot.lines3d(alpha, name=\"Curve\", id=\"Curve\")\n",
    "            plot.points3d([alpha[i]], size=4, color=\"black\", name=\"Point\", id=\"Point\")\n",
    "            plot.vector3d(TNB[i,0], start=alpha[i], color=\"green\", name=\"T\", id=\"T\")\n",
    "            plot.vector3d(TNB[i,1], start=alpha[i], color=\"red\",   name=\"N\", id=\"N\")\n",
    "            plot.vector3d(TNB[i,2], start=alpha[i], color=\"gold\",  name=\"B\", id=\"B\")\n",
    "\n",
    "    plot[\"Point\"].update(visible=\"legendonly\")\n",
    "    for v in (\"T\", \"N\", \"B\"):\n",
    "        for trace in plot[v]:\n",
    "            trace.update(visible=\"legendonly\")\n",
    "    return figure\n"
   ]
  },
  {
   "cell_type": "code",
   "execution_count": 6,
   "id": "0a1cc77f",
   "metadata": {},
   "outputs": [
    {
     "data": {
      "application/vnd.jupyter.widget-view+json": {
       "model_id": "8e2326988e544a1c968bb7fe797643c2",
       "version_major": 2,
       "version_minor": 0
      },
      "text/plain": [
       "interactive(children=(SelectionSlider(description='$s$', options=(0.0, 0.01, 0.02, 0.03, 0.04, 0.05, 0.06, 0.0…"
      ]
     },
     "metadata": {},
     "output_type": "display_data"
    },
    {
     "data": {
      "application/vnd.jupyter.widget-view+json": {
       "model_id": "f7ed09afaf6945bc9a922111637b7b60",
       "version_major": 2,
       "version_minor": 0
      },
      "text/plain": [
       "FigureWidget({\n",
       "    'data': [{'mode': 'lines',\n",
       "              'name': 'Curve',\n",
       "              'scene': 'scene',\n",
       " …"
      ]
     },
     "metadata": {},
     "output_type": "display_data"
    }
   ],
   "source": [
    "# Testing: This should give a circle, of radius 3\n",
    "def kappa(s): return 1/3\n",
    "def tau(s): return 0\n",
    "s_values = np.linspace(0, 30, 3001)\n",
    "frenet_interactive(kappa, tau, s_values)"
   ]
  },
  {
   "cell_type": "code",
   "execution_count": 7,
   "id": "b93514ba",
   "metadata": {
    "scrolled": false
   },
   "outputs": [
    {
     "data": {
      "application/vnd.jupyter.widget-view+json": {
       "model_id": "f6ae439621e743c5b3b8cffed57fc503",
       "version_major": 2,
       "version_minor": 0
      },
      "text/plain": [
       "interactive(children=(SelectionSlider(description='$s$', options=(0.0, 0.01, 0.02, 0.03, 0.04, 0.05, 0.06, 0.0…"
      ]
     },
     "metadata": {},
     "output_type": "display_data"
    },
    {
     "data": {
      "application/vnd.jupyter.widget-view+json": {
       "model_id": "9350201730ff4daaaf0dbd91bb039774",
       "version_major": 2,
       "version_minor": 0
      },
      "text/plain": [
       "FigureWidget({\n",
       "    'data': [{'mode': 'lines',\n",
       "              'name': 'Curve',\n",
       "              'scene': 'scene',\n",
       " …"
      ]
     },
     "metadata": {},
     "output_type": "display_data"
    }
   ],
   "source": [
    "# Testing: This should give a helix, of radius 3\n",
    "def kappa(s): return 3/np.sqrt(10)\n",
    "def tau(s): return 1/np.sqrt(10)\n",
    "s_values = np.linspace(0, 30, 3001)\n",
    "frenet_interactive(kappa, tau, s_values)"
   ]
  },
  {
   "cell_type": "markdown",
   "id": "06e9dd8c",
   "metadata": {},
   "source": [
    "<br>\n",
    "<br>\n",
    "<br>\n",
    "<br>\n",
    "<br>\n",
    "<br>\n",
    "<br>\n",
    "<br>\n",
    "<br>\n",
    "<br>\n",
    "<br>\n",
    "<br>\n",
    "<br>\n",
    "<br>\n",
    "<br>\n",
    "<br>\n",
    "<br>\n",
    "<br>\n"
   ]
  },
  {
   "cell_type": "markdown",
   "id": "aca7cbe8",
   "metadata": {},
   "source": [
    "## Here we can see how a helix changes as we change its torsion\n",
    "\n",
    "### (keeping the curvature constant at $\\kappa = 1$)\n"
   ]
  },
  {
   "cell_type": "code",
   "execution_count": 8,
   "id": "d5e4d66e",
   "metadata": {},
   "outputs": [
    {
     "data": {
      "application/vnd.jupyter.widget-view+json": {
       "model_id": "3c35a643ef1647c28ed79f4268c4066b",
       "version_major": 2,
       "version_minor": 0
      },
      "text/plain": [
       "interactive(children=(FloatSlider(value=0.0, description='torsion', max=1.5, min=-0.5, step=0.01), SelectionSl…"
      ]
     },
     "metadata": {},
     "output_type": "display_data"
    },
    {
     "data": {
      "application/vnd.jupyter.widget-view+json": {
       "model_id": "fa6a76230e364349a9834d48541fe0c9",
       "version_major": 2,
       "version_minor": 0
      },
      "text/plain": [
       "FigureWidget({\n",
       "    'data': [{'mode': 'lines',\n",
       "              'name': 'Curve',\n",
       "              'scene': 'scene',\n",
       " …"
      ]
     },
     "metadata": {},
     "output_type": "display_data"
    }
   ],
   "source": [
    "def kappa(a, s): return 1\n",
    "def tau(a, s): return a\n",
    "s_maxes = [(fr\"{n}π\", n*np.pi) for n in range(2, 7, 2)] + [(\"A lot\", 30.0)]\n",
    "parameter_interactive(kappa, tau, s_maxes, (-0.5, 1.5, 0, \"torsion\"))"
   ]
  },
  {
   "cell_type": "markdown",
   "id": "356d09a1",
   "metadata": {},
   "source": [
    "<br>\n",
    "<br>\n",
    "<br>\n",
    "<br>\n",
    "<br>\n",
    "<br>\n",
    "<br>\n",
    "<br>\n",
    "<br>\n",
    "<br>\n",
    "<br>\n",
    "<br>\n",
    "<br>\n",
    "<br>\n",
    "<br>\n",
    "<br>\n",
    "<br>\n",
    "<br>\n"
   ]
  },
  {
   "cell_type": "markdown",
   "id": "64351b2e",
   "metadata": {},
   "source": [
    "## This is where things get interesting...\n",
    "\n",
    "### What does a curve with constant curvature and periodic torsion look like? "
   ]
  },
  {
   "cell_type": "code",
   "execution_count": 9,
   "id": "4af2525a",
   "metadata": {},
   "outputs": [
    {
     "data": {
      "application/vnd.jupyter.widget-view+json": {
       "model_id": "cbe6df2cd68c42a4a41627797d2ae1ce",
       "version_major": 2,
       "version_minor": 0
      },
      "text/plain": [
       "interactive(children=(FloatSlider(value=0.0, description='Amplitude', max=2.0, step=0.01), SelectionSlider(des…"
      ]
     },
     "metadata": {},
     "output_type": "display_data"
    },
    {
     "data": {
      "application/vnd.jupyter.widget-view+json": {
       "model_id": "3eedf1488d2f493e9cdd387275db2a88",
       "version_major": 2,
       "version_minor": 0
      },
      "text/plain": [
       "FigureWidget({\n",
       "    'data': [{'mode': 'lines',\n",
       "              'name': 'Curve',\n",
       "              'scene': 'scene',\n",
       " …"
      ]
     },
     "metadata": {},
     "output_type": "display_data"
    }
   ],
   "source": [
    "def kappa(a, s): return 1\n",
    "def tau(a, s): return a * np.cos(s)\n",
    "s_maxes = [(fr\"{n}π\", n*np.pi) for n in range(2, 13, 2)] + [(\"A lot\", 200.0)]\n",
    "parameter_interactive(kappa, tau, s_maxes, (0, 2, 0, \"Amplitude\"))"
   ]
  },
  {
   "cell_type": "markdown",
   "id": "5ca372ab",
   "metadata": {},
   "source": [
    "<br>\n",
    "<br>\n",
    "<br>\n",
    "<br>\n",
    "<br>\n",
    "<br>\n",
    "<br>\n",
    "<br>\n",
    "<br>\n",
    "<br>\n",
    "<br>\n",
    "<br>\n",
    "<br>\n",
    "<br>\n",
    "<br>\n",
    "<br>\n",
    "<br>\n",
    "<br>\n"
   ]
  },
  {
   "cell_type": "markdown",
   "id": "f5b2d593",
   "metadata": {},
   "source": [
    "## Below we solve for (er... numerically approximate) the amplitude of the cosine function that makes the curve a perfect closed loop. \n",
    "\n",
    "### Starting with a period of $4\\pi$ (the “baseball seam” curve)"
   ]
  },
  {
   "cell_type": "code",
   "execution_count": 10,
   "id": "317bd843",
   "metadata": {},
   "outputs": [
    {
     "name": "stdout",
     "output_type": "stream",
     "text": [
      "Magic value of parameter is 1.0084475708007812\n"
     ]
    }
   ],
   "source": [
    "def kappa(a, s): return 1\n",
    "def tau(a, s): return a * np.cos(s)\n",
    "s_values = np.linspace(0, 4*np.pi, 4001)\n",
    "magic_a = frenet_close_curve(kappa, tau, 1, 1.02, s_values)\n",
    "print(f\"Magic value of parameter is {magic_a}\")"
   ]
  },
  {
   "cell_type": "code",
   "execution_count": 11,
   "id": "a130bae8",
   "metadata": {},
   "outputs": [
    {
     "data": {
      "application/vnd.jupyter.widget-view+json": {
       "model_id": "79eda6670a0a461b885e895aef1b6ab2",
       "version_major": 2,
       "version_minor": 0
      },
      "text/plain": [
       "interactive(children=(SelectionSlider(description='$s$', options=(0.0, 0.006283185307179587, 0.012566370614359…"
      ]
     },
     "metadata": {},
     "output_type": "display_data"
    },
    {
     "data": {
      "application/vnd.jupyter.widget-view+json": {
       "model_id": "88b67f1db81b4827981b99877d6b1e6b",
       "version_major": 2,
       "version_minor": 0
      },
      "text/plain": [
       "FigureWidget({\n",
       "    'data': [{'mode': 'lines',\n",
       "              'name': 'Curve',\n",
       "              'scene': 'scene',\n",
       " …"
      ]
     },
     "metadata": {},
     "output_type": "display_data"
    }
   ],
   "source": [
    "def kappa(s): return 1\n",
    "def tau(s): return magic_a * np.cos(s)\n",
    "s_values = np.linspace(0, 4*np.pi, 2001)\n",
    "frenet_interactive(kappa, tau, s_values)"
   ]
  },
  {
   "cell_type": "markdown",
   "id": "0ce38292",
   "metadata": {},
   "source": [
    "<br>\n",
    "<br>\n",
    "<br>\n",
    "<br>\n",
    "<br>\n",
    "\n",
    "### Next with a period of $6\\pi$ (three oscillations as it goes around the loop)"
   ]
  },
  {
   "cell_type": "code",
   "execution_count": 12,
   "id": "95865958",
   "metadata": {},
   "outputs": [
    {
     "name": "stdout",
     "output_type": "stream",
     "text": [
      "Magic value of parameter is 1.3547428131103514\n"
     ]
    }
   ],
   "source": [
    "def kappa(a, s): return 1\n",
    "def tau(a, s): return a * np.cos(s)\n",
    "s_values = np.linspace(0, 6*np.pi, 12001)\n",
    "magic_a = frenet_close_curve(kappa, tau, 1.2, 1.4, s_values)\n",
    "print(f\"Magic value of parameter is {magic_a}\")"
   ]
  },
  {
   "cell_type": "code",
   "execution_count": 13,
   "id": "16403f7f",
   "metadata": {},
   "outputs": [
    {
     "data": {
      "application/vnd.jupyter.widget-view+json": {
       "model_id": "2d34bf87038a431187c9bb6f1b68f9ae",
       "version_major": 2,
       "version_minor": 0
      },
      "text/plain": [
       "interactive(children=(SelectionSlider(description='$s$', options=(0.0, 0.0015707963267948967, 0.00314159265358…"
      ]
     },
     "metadata": {},
     "output_type": "display_data"
    },
    {
     "data": {
      "application/vnd.jupyter.widget-view+json": {
       "model_id": "fa2f4ee96a5a47ab8bb09cf11992026c",
       "version_major": 2,
       "version_minor": 0
      },
      "text/plain": [
       "FigureWidget({\n",
       "    'data': [{'mode': 'lines',\n",
       "              'name': 'Curve',\n",
       "              'scene': 'scene',\n",
       " …"
      ]
     },
     "metadata": {},
     "output_type": "display_data"
    }
   ],
   "source": [
    "def kappa(s): return 1\n",
    "def tau(s): return magic_a * np.cos(s)\n",
    "s_values = np.linspace(0, 6*np.pi, 12001)\n",
    "frenet_interactive(kappa, tau, s_values)"
   ]
  },
  {
   "cell_type": "markdown",
   "id": "e4fafe78",
   "metadata": {},
   "source": [
    "<br>\n",
    "<br>\n",
    "<br>\n",
    "<br>\n",
    "<br>\n",
    "\n",
    "### Next with a period of $8\\pi$ (four oscillations as it goes around the loop)"
   ]
  },
  {
   "cell_type": "code",
   "execution_count": 14,
   "id": "16c11dc9",
   "metadata": {},
   "outputs": [
    {
     "name": "stdout",
     "output_type": "stream",
     "text": [
      "Magic value of parameter is 1.5318492889404296\n"
     ]
    }
   ],
   "source": [
    "def kappa(a, s): return 1\n",
    "def tau(a, s): return a * np.cos(s)\n",
    "s_values = np.linspace(0, 8*np.pi, 16001)\n",
    "magic_a = frenet_close_curve(kappa, tau, 1.4, 1.6, s_values)\n",
    "print(f\"Magic value of parameter is {magic_a}\")"
   ]
  },
  {
   "cell_type": "code",
   "execution_count": 15,
   "id": "124d2858",
   "metadata": {},
   "outputs": [
    {
     "data": {
      "application/vnd.jupyter.widget-view+json": {
       "model_id": "bc239dc66eaa41d19e11402d89f9e1ba",
       "version_major": 2,
       "version_minor": 0
      },
      "text/plain": [
       "interactive(children=(SelectionSlider(description='$s$', options=(0.0, 0.0015707963267948967, 0.00314159265358…"
      ]
     },
     "metadata": {},
     "output_type": "display_data"
    },
    {
     "data": {
      "application/vnd.jupyter.widget-view+json": {
       "model_id": "b4ceb673d6454ff79b30f61bbd8f7a4a",
       "version_major": 2,
       "version_minor": 0
      },
      "text/plain": [
       "FigureWidget({\n",
       "    'data': [{'mode': 'lines',\n",
       "              'name': 'Curve',\n",
       "              'scene': 'scene',\n",
       " …"
      ]
     },
     "metadata": {},
     "output_type": "display_data"
    }
   ],
   "source": [
    "def kappa(s): return 1\n",
    "def tau(s): return magic_a * np.cos(s)\n",
    "s_values = np.linspace(0, 8*np.pi, 16001)\n",
    "frenet_interactive(kappa, tau, s_values)"
   ]
  },
  {
   "cell_type": "markdown",
   "id": "b6a90bc9",
   "metadata": {},
   "source": [
    "<br>\n",
    "<br>\n",
    "<br>\n",
    "<br>\n",
    "<br>\n",
    "\n",
    "### Next with a period of $10\\pi$ (five oscillations as it goes around the loop)"
   ]
  },
  {
   "cell_type": "code",
   "execution_count": 16,
   "id": "bd10b5c7",
   "metadata": {},
   "outputs": [
    {
     "name": "stdout",
     "output_type": "stream",
     "text": [
      "Magic value of parameter is 1.6398418426513675\n"
     ]
    }
   ],
   "source": [
    "def kappa(a, s): return 1\n",
    "def tau(a, s): return a * np.cos(s)\n",
    "s_values = np.linspace(0, 10*np.pi, 20001)\n",
    "magic_a = frenet_close_curve(kappa, tau, 1.6, 1.7, s_values)\n",
    "print(f\"Magic value of parameter is {magic_a}\")"
   ]
  },
  {
   "cell_type": "code",
   "execution_count": 17,
   "id": "09002056",
   "metadata": {},
   "outputs": [
    {
     "data": {
      "application/vnd.jupyter.widget-view+json": {
       "model_id": "a83c219906f64a8ea0350cb4827a8e9e",
       "version_major": 2,
       "version_minor": 0
      },
      "text/plain": [
       "interactive(children=(SelectionSlider(description='$s$', options=(0.0, 0.0015707963267948967, 0.00314159265358…"
      ]
     },
     "metadata": {},
     "output_type": "display_data"
    },
    {
     "data": {
      "application/vnd.jupyter.widget-view+json": {
       "model_id": "2a468665914748fd88678cdaef245a28",
       "version_major": 2,
       "version_minor": 0
      },
      "text/plain": [
       "FigureWidget({\n",
       "    'data': [{'mode': 'lines',\n",
       "              'name': 'Curve',\n",
       "              'scene': 'scene',\n",
       " …"
      ]
     },
     "metadata": {},
     "output_type": "display_data"
    }
   ],
   "source": [
    "def kappa(s): return 1\n",
    "def tau(s): return magic_a * np.cos(s)\n",
    "s_values = np.linspace(0, 10*np.pi, 20001)\n",
    "frenet_interactive(kappa, tau, s_values)"
   ]
  },
  {
   "cell_type": "markdown",
   "id": "4895affb",
   "metadata": {},
   "source": [
    "<br>\n",
    "<br>\n",
    "<br>\n",
    "<br>\n",
    "<br>\n",
    "\n",
    "### Next with a period of $12\\pi$ (six oscillations as it goes around the loop)"
   ]
  },
  {
   "cell_type": "code",
   "execution_count": 18,
   "id": "17b6a0b7",
   "metadata": {},
   "outputs": [
    {
     "name": "stdout",
     "output_type": "stream",
     "text": [
      "Magic value of parameter is 1.712703323364258\n"
     ]
    }
   ],
   "source": [
    "def kappa(a, s): return 1\n",
    "def tau(a, s): return a * np.cos(s)\n",
    "s_values = np.linspace(0, 12*np.pi, 12001)\n",
    "magic_a = frenet_close_curve(kappa, tau, 1.7, 1.8, s_values)\n",
    "print(f\"Magic value of parameter is {magic_a}\")"
   ]
  },
  {
   "cell_type": "code",
   "execution_count": 19,
   "id": "2112c255",
   "metadata": {},
   "outputs": [
    {
     "data": {
      "application/vnd.jupyter.widget-view+json": {
       "model_id": "337eea6debbd4bfd93ead13d9c6d5c1d",
       "version_major": 2,
       "version_minor": 0
      },
      "text/plain": [
       "interactive(children=(SelectionSlider(description='$s$', options=(0.0, 0.0031415926535897933, 0.00628318530717…"
      ]
     },
     "metadata": {},
     "output_type": "display_data"
    },
    {
     "data": {
      "application/vnd.jupyter.widget-view+json": {
       "model_id": "8403b12507e04f3c8365997be60eac89",
       "version_major": 2,
       "version_minor": 0
      },
      "text/plain": [
       "FigureWidget({\n",
       "    'data': [{'mode': 'lines',\n",
       "              'name': 'Curve',\n",
       "              'scene': 'scene',\n",
       " …"
      ]
     },
     "metadata": {},
     "output_type": "display_data"
    }
   ],
   "source": [
    "def kappa(s): return 1\n",
    "def tau(s): return magic_a * np.cos(s)\n",
    "s_values = np.linspace(0, 12*np.pi, 12001)\n",
    "frenet_interactive(kappa, tau, s_values)"
   ]
  },
  {
   "cell_type": "markdown",
   "id": "974c36f0",
   "metadata": {},
   "source": [
    "### etc...\n"
   ]
  },
  {
   "cell_type": "markdown",
   "id": "11c7401e",
   "metadata": {},
   "source": [
    "<br>\n",
    "<br>\n",
    "<br>\n",
    "<br>\n",
    "<br>\n",
    "\n",
    "## What happens if instead of increasing the amplitude of the cosine function (the torsion), we decrease it? \n",
    "\n",
    "### With various periods, this can yield other interesting closed loops. They all have some self-intersections, but some interesting shapes appear. \n"
   ]
  },
  {
   "cell_type": "markdown",
   "id": "9142a8eb",
   "metadata": {},
   "source": [
    "### First, with a period of $6\\pi$ (three full oscillations)"
   ]
  },
  {
   "cell_type": "code",
   "execution_count": 20,
   "id": "1b3bbdfd",
   "metadata": {},
   "outputs": [
    {
     "name": "stdout",
     "output_type": "stream",
     "text": [
      "Magic value of parameter is 0.6690608978271483\n"
     ]
    }
   ],
   "source": [
    "def kappa(a, s): return 1\n",
    "def tau(a, s): return a * np.cos(s)\n",
    "s_values = np.linspace(0, 6*np.pi, 12001)\n",
    "magic_a = frenet_close_curve(kappa, tau, 0.6, 0.7, s_values)\n",
    "print(f\"Magic value of parameter is {magic_a}\")"
   ]
  },
  {
   "cell_type": "code",
   "execution_count": 21,
   "id": "3eee2dee",
   "metadata": {},
   "outputs": [
    {
     "data": {
      "application/vnd.jupyter.widget-view+json": {
       "model_id": "56c5dcd0eb224e909d4623d0bb82063b",
       "version_major": 2,
       "version_minor": 0
      },
      "text/plain": [
       "interactive(children=(SelectionSlider(description='$s$', options=(0.0, 0.0015707963267948967, 0.00314159265358…"
      ]
     },
     "metadata": {},
     "output_type": "display_data"
    },
    {
     "data": {
      "application/vnd.jupyter.widget-view+json": {
       "model_id": "8b3a9fcd0fea4bac999f8f28710da765",
       "version_major": 2,
       "version_minor": 0
      },
      "text/plain": [
       "FigureWidget({\n",
       "    'data': [{'mode': 'lines',\n",
       "              'name': 'Curve',\n",
       "              'scene': 'scene',\n",
       " …"
      ]
     },
     "metadata": {},
     "output_type": "display_data"
    }
   ],
   "source": [
    "def kappa(s): return 1\n",
    "def tau(s): return magic_a * np.cos(s)\n",
    "s_values = np.linspace(0, 6*np.pi, 12001)\n",
    "frenet_interactive(kappa, tau, s_values)"
   ]
  },
  {
   "cell_type": "markdown",
   "id": "a881bba4",
   "metadata": {},
   "source": [
    "<br>\n",
    "<br>\n",
    "<br>\n",
    "<br>\n",
    "<br>\n",
    "\n",
    "### Next, with a period of $8\\pi$ (four full oscillations)"
   ]
  },
  {
   "cell_type": "code",
   "execution_count": 22,
   "id": "eb826c70",
   "metadata": {},
   "outputs": [
    {
     "name": "stdout",
     "output_type": "stream",
     "text": [
      "Magic value of parameter is 0.5009951782226563\n"
     ]
    }
   ],
   "source": [
    "def kappa(a, s): return 1\n",
    "def tau(a, s): return a * np.cos(s)\n",
    "s_values = np.linspace(0, 8*np.pi, 16001)\n",
    "magic_a = frenet_close_curve(kappa, tau, 0.48, 0.52, s_values)\n",
    "print(f\"Magic value of parameter is {magic_a}\")"
   ]
  },
  {
   "cell_type": "code",
   "execution_count": 23,
   "id": "7f694a3d",
   "metadata": {},
   "outputs": [
    {
     "data": {
      "application/vnd.jupyter.widget-view+json": {
       "model_id": "bc0829756f694ef693e7ac795b1a5c14",
       "version_major": 2,
       "version_minor": 0
      },
      "text/plain": [
       "interactive(children=(SelectionSlider(description='$s$', options=(0.0, 0.0015707963267948967, 0.00314159265358…"
      ]
     },
     "metadata": {},
     "output_type": "display_data"
    },
    {
     "data": {
      "application/vnd.jupyter.widget-view+json": {
       "model_id": "8710c1c787164a2e88c322e5a7379a95",
       "version_major": 2,
       "version_minor": 0
      },
      "text/plain": [
       "FigureWidget({\n",
       "    'data': [{'mode': 'lines',\n",
       "              'name': 'Curve',\n",
       "              'scene': 'scene',\n",
       " …"
      ]
     },
     "metadata": {},
     "output_type": "display_data"
    }
   ],
   "source": [
    "def kappa(s): return 1\n",
    "def tau(s): return magic_a * np.cos(s)\n",
    "s_values = np.linspace(0, 8*np.pi, 16001)\n",
    "frenet_interactive(kappa, tau, s_values)"
   ]
  },
  {
   "cell_type": "markdown",
   "id": "74cb83ed",
   "metadata": {},
   "source": [
    "<br>\n",
    "<br>\n",
    "<br>\n",
    "<br>\n",
    "<br>\n",
    "\n",
    "### Next, with a period of $10\\pi$ (five full oscillations)"
   ]
  },
  {
   "cell_type": "code",
   "execution_count": 24,
   "id": "d3a7a6dd",
   "metadata": {},
   "outputs": [
    {
     "name": "stdout",
     "output_type": "stream",
     "text": [
      "Magic value of parameter is 0.4005062866210937\n"
     ]
    }
   ],
   "source": [
    "def kappa(a, s): return 1\n",
    "def tau(a, s): return a * np.cos(s)\n",
    "s_values = np.linspace(0, 10*np.pi, 20001)\n",
    "magic_a = frenet_close_curve(kappa, tau, 0.38, 0.42, s_values)\n",
    "print(f\"Magic value of parameter is {magic_a}\")"
   ]
  },
  {
   "cell_type": "code",
   "execution_count": 25,
   "id": "c5a597a8",
   "metadata": {},
   "outputs": [
    {
     "data": {
      "application/vnd.jupyter.widget-view+json": {
       "model_id": "2e6fd9b556174c8a97963e5a9cedaa64",
       "version_major": 2,
       "version_minor": 0
      },
      "text/plain": [
       "interactive(children=(SelectionSlider(description='$s$', options=(0.0, 0.0015707963267948967, 0.00314159265358…"
      ]
     },
     "metadata": {},
     "output_type": "display_data"
    },
    {
     "data": {
      "application/vnd.jupyter.widget-view+json": {
       "model_id": "b5f0d9f49c00412a9cff1f5a0aed4416",
       "version_major": 2,
       "version_minor": 0
      },
      "text/plain": [
       "FigureWidget({\n",
       "    'data': [{'mode': 'lines',\n",
       "              'name': 'Curve',\n",
       "              'scene': 'scene',\n",
       " …"
      ]
     },
     "metadata": {},
     "output_type": "display_data"
    }
   ],
   "source": [
    "def kappa(s): return 1\n",
    "def tau(s): return magic_a * np.cos(s)\n",
    "s_values = np.linspace(0, 10*np.pi, 20001)\n",
    "frenet_interactive(kappa, tau, s_values)"
   ]
  },
  {
   "cell_type": "markdown",
   "id": "d2406898",
   "metadata": {},
   "source": [
    "<br>\n",
    "<br>\n",
    "<br>\n",
    "<br>\n",
    "<br>\n",
    "\n",
    "### Next, with a period of $12\\pi$ (six full oscillations)"
   ]
  },
  {
   "cell_type": "code",
   "execution_count": 26,
   "id": "ff5204e1",
   "metadata": {},
   "outputs": [
    {
     "name": "stdout",
     "output_type": "stream",
     "text": [
      "Magic value of parameter is 0.33362518310546874\n"
     ]
    }
   ],
   "source": [
    "def kappa(a, s): return 1\n",
    "def tau(a, s): return a * np.cos(s)\n",
    "s_values = np.linspace(0, 12*np.pi, 12001)\n",
    "magic_a = frenet_close_curve(kappa, tau, 0.31, 0.35, s_values)\n",
    "print(f\"Magic value of parameter is {magic_a}\")"
   ]
  },
  {
   "cell_type": "code",
   "execution_count": 27,
   "id": "4cb73a79",
   "metadata": {},
   "outputs": [
    {
     "data": {
      "application/vnd.jupyter.widget-view+json": {
       "model_id": "ac6c0a8b9df546838e40de3b3dc778ee",
       "version_major": 2,
       "version_minor": 0
      },
      "text/plain": [
       "interactive(children=(SelectionSlider(description='$s$', options=(0.0, 0.0031415926535897933, 0.00628318530717…"
      ]
     },
     "metadata": {},
     "output_type": "display_data"
    },
    {
     "data": {
      "application/vnd.jupyter.widget-view+json": {
       "model_id": "4155389914d04d2fb3f8cf668967d06f",
       "version_major": 2,
       "version_minor": 0
      },
      "text/plain": [
       "FigureWidget({\n",
       "    'data': [{'mode': 'lines',\n",
       "              'name': 'Curve',\n",
       "              'scene': 'scene',\n",
       " …"
      ]
     },
     "metadata": {},
     "output_type": "display_data"
    }
   ],
   "source": [
    "def kappa(s): return 1\n",
    "def tau(s): return magic_a * np.cos(s)\n",
    "s_values = np.linspace(0, 12*np.pi, 12001)\n",
    "frenet_interactive(kappa, tau, s_values)"
   ]
  },
  {
   "cell_type": "markdown",
   "id": "3765f8b4",
   "metadata": {},
   "source": [
    "<br>\n",
    "<br>\n",
    "<br>\n",
    "<br>\n",
    "<br>\n",
    "\n",
    "## Here, just for fun, we try a curve with periodic curvature *and* periodic torsion. \n",
    "\n",
    "### There's only one closed curve shown below, but you can find many more. Try playing around and see what you can find. \n"
   ]
  },
  {
   "cell_type": "code",
   "execution_count": 30,
   "id": "875fb6cb",
   "metadata": {},
   "outputs": [
    {
     "data": {
      "application/vnd.jupyter.widget-view+json": {
       "model_id": "08999149ffb04b01832bf6267ad4437e",
       "version_major": 2,
       "version_minor": 0
      },
      "text/plain": [
       "interactive(children=(FloatSlider(value=0.0, description='Amplitude', max=2.0, step=0.01), SelectionSlider(des…"
      ]
     },
     "metadata": {},
     "output_type": "display_data"
    },
    {
     "data": {
      "application/vnd.jupyter.widget-view+json": {
       "model_id": "593da96bdbdc48ec872a218b1e611cd9",
       "version_major": 2,
       "version_minor": 0
      },
      "text/plain": [
       "FigureWidget({\n",
       "    'data': [{'mode': 'lines',\n",
       "              'name': 'Curve',\n",
       "              'scene': 'scene',\n",
       " …"
      ]
     },
     "metadata": {},
     "output_type": "display_data"
    }
   ],
   "source": [
    "def kappa(a, s): return 1 + np.cos(s)\n",
    "def tau(a, s): return a * np.sin(s)\n",
    "s_maxes = [(fr\"{n}π\", n*np.pi) for n in range(2, 13, 2)] + [(\"A lot\", 200.0)]\n",
    "parameter_interactive(kappa, tau, s_maxes, (0, 2, 0, \"Amplitude\"))"
   ]
  },
  {
   "cell_type": "code",
   "execution_count": 28,
   "id": "a1d68134",
   "metadata": {},
   "outputs": [
    {
     "name": "stdout",
     "output_type": "stream",
     "text": [
      "Magic value of parameter is 1.0624880981445313\n"
     ]
    }
   ],
   "source": [
    "def kappa(a, s): return 1 + np.cos(s)\n",
    "def tau(a, s): return a * np.sin(s)\n",
    "s_values = np.linspace(0, 6*np.pi, 60001)\n",
    "magic_a = frenet_close_curve(kappa, tau, 1.05, 1.07, s_values)\n",
    "print(f\"Magic value of parameter is {magic_a}\")"
   ]
  },
  {
   "cell_type": "code",
   "execution_count": 29,
   "id": "6b60846f",
   "metadata": {},
   "outputs": [
    {
     "data": {
      "application/vnd.jupyter.widget-view+json": {
       "model_id": "96c405e8677b4d69bb449bd7b26c463e",
       "version_major": 2,
       "version_minor": 0
      },
      "text/plain": [
       "interactive(children=(SelectionSlider(description='$s$', options=(0.0, 0.0031415926535897933, 0.00628318530717…"
      ]
     },
     "metadata": {},
     "output_type": "display_data"
    },
    {
     "data": {
      "application/vnd.jupyter.widget-view+json": {
       "model_id": "23f5f29e176c422d83b0e3e1423cf0cd",
       "version_major": 2,
       "version_minor": 0
      },
      "text/plain": [
       "FigureWidget({\n",
       "    'data': [{'mode': 'lines',\n",
       "              'name': 'Curve',\n",
       "              'scene': 'scene',\n",
       " …"
      ]
     },
     "metadata": {},
     "output_type": "display_data"
    }
   ],
   "source": [
    "def kappa(s): return 1 + np.cos(s)\n",
    "def tau(s): return magic_a * np.sin(s)\n",
    "s_values = np.linspace(0, 6*np.pi, 6001)\n",
    "options = dict(axes_ranges=((-10, 10), (-10, 10), (-10, 10)))\n",
    "frenet_interactive(kappa, tau, s_values, **options)"
   ]
  },
  {
   "cell_type": "code",
   "execution_count": null,
   "id": "662167cd",
   "metadata": {},
   "outputs": [],
   "source": []
  }
 ],
 "metadata": {
  "hide_input": false,
  "kernelspec": {
   "display_name": "Python 3 (ipykernel)",
   "language": "python",
   "name": "python3"
  },
  "language_info": {
   "codemirror_mode": {
    "name": "ipython",
    "version": 3
   },
   "file_extension": ".py",
   "mimetype": "text/x-python",
   "name": "python",
   "nbconvert_exporter": "python",
   "pygments_lexer": "ipython3",
   "version": "3.9.2"
  }
 },
 "nbformat": 4,
 "nbformat_minor": 5
}
